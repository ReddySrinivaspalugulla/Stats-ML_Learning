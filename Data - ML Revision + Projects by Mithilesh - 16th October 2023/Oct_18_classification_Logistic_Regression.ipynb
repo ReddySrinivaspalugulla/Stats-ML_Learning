{
 "cells": [
  {
   "cell_type": "code",
   "execution_count": null,
   "id": "49e42592",
   "metadata": {},
   "outputs": [],
   "source": []
  },
  {
   "cell_type": "markdown",
   "id": "deef9fed",
   "metadata": {},
   "source": [
    "# Cardio Vascular disease prediction"
   ]
  },
  {
   "cell_type": "code",
   "execution_count": null,
   "id": "6efbb8d3",
   "metadata": {},
   "outputs": [],
   "source": [
    "\"\"\"Analysis and Prediction \n",
    "\n",
    "Abstract\n",
    "cardiovascular diseases are the first leading cause of death across the world as well. World Health Organization has estimated \n",
    "that the mortality rate caused by heart diseases will mount to 23 million cases by 2030. Hence, the use of data mining \n",
    "algorithms could be useful in predicting coronary artery diseases. \n",
    "\n",
    "Objective\n",
    "The objective of this research is to build classifiers to predict whether a person has cardiovascular disease based on \n",
    "their medical test, age, and gender also also to identify which test is more reliable in determining cardiovascular disease.\n",
    "\n",
    "Knowledge of the risk factors associated with heart disease helps health care professionals\n",
    "to identify patients at high risk of having heart disease . Statistical analysis has identified\n",
    "the risk factors associated with heart disease to be age, blood pressure, smoking habit, total\n",
    "cholesterol, diabetes, hypertension, family history of heart disease, obesity, and lack of\n",
    "physical activity.\n",
    "\n",
    "# note:-Here family History, Other habits like Smoking,Alcohal etc are not inclused.\n",
    "\n",
    "\n",
    "Method\n",
    "Collected patient data from four national hospital. Two from hospital in USA and two from Europe. \n",
    "\"\"\""
   ]
  },
  {
   "cell_type": "code",
   "execution_count": 1,
   "id": "3ea65715",
   "metadata": {},
   "outputs": [],
   "source": [
    "# import the basic library\n",
    "import os\n",
    "import numpy as np # linear algebra\n",
    "import pandas as pd # data processing, CSV file I/O (e.g. pd.read_csv)\n",
    "#For plotting graphs\n",
    "import matplotlib.pyplot as plt\n",
    "import seaborn as sns\n",
    "%matplotlib inline\n",
    "import warnings\n",
    "warnings.filterwarnings(\"ignore\")\n"
   ]
  },
  {
   "cell_type": "code",
   "execution_count": 2,
   "id": "c242a1c5",
   "metadata": {},
   "outputs": [],
   "source": [
    "data=pd.read_csv(\"Cardio_vascular.csv\")"
   ]
  },
  {
   "cell_type": "code",
   "execution_count": 3,
   "id": "9b8f8e16",
   "metadata": {},
   "outputs": [
    {
     "data": {
      "text/html": [
       "<div>\n",
       "<style scoped>\n",
       "    .dataframe tbody tr th:only-of-type {\n",
       "        vertical-align: middle;\n",
       "    }\n",
       "\n",
       "    .dataframe tbody tr th {\n",
       "        vertical-align: top;\n",
       "    }\n",
       "\n",
       "    .dataframe thead th {\n",
       "        text-align: right;\n",
       "    }\n",
       "</style>\n",
       "<table border=\"1\" class=\"dataframe\">\n",
       "  <thead>\n",
       "    <tr style=\"text-align: right;\">\n",
       "      <th></th>\n",
       "      <th>age</th>\n",
       "      <th>sex</th>\n",
       "      <th>cp</th>\n",
       "      <th>trestbps</th>\n",
       "      <th>chol</th>\n",
       "      <th>fbs</th>\n",
       "      <th>restecg</th>\n",
       "      <th>thalach</th>\n",
       "      <th>exang</th>\n",
       "      <th>oldpeak</th>\n",
       "      <th>slope</th>\n",
       "      <th>ca</th>\n",
       "      <th>thal</th>\n",
       "      <th>target</th>\n",
       "    </tr>\n",
       "  </thead>\n",
       "  <tbody>\n",
       "    <tr>\n",
       "      <th>0</th>\n",
       "      <td>52</td>\n",
       "      <td>1</td>\n",
       "      <td>0</td>\n",
       "      <td>125</td>\n",
       "      <td>212</td>\n",
       "      <td>0</td>\n",
       "      <td>1</td>\n",
       "      <td>168</td>\n",
       "      <td>0</td>\n",
       "      <td>1.0</td>\n",
       "      <td>2</td>\n",
       "      <td>2</td>\n",
       "      <td>3</td>\n",
       "      <td>0</td>\n",
       "    </tr>\n",
       "    <tr>\n",
       "      <th>1</th>\n",
       "      <td>53</td>\n",
       "      <td>1</td>\n",
       "      <td>0</td>\n",
       "      <td>140</td>\n",
       "      <td>203</td>\n",
       "      <td>1</td>\n",
       "      <td>0</td>\n",
       "      <td>155</td>\n",
       "      <td>1</td>\n",
       "      <td>3.1</td>\n",
       "      <td>0</td>\n",
       "      <td>0</td>\n",
       "      <td>3</td>\n",
       "      <td>0</td>\n",
       "    </tr>\n",
       "    <tr>\n",
       "      <th>2</th>\n",
       "      <td>70</td>\n",
       "      <td>1</td>\n",
       "      <td>0</td>\n",
       "      <td>145</td>\n",
       "      <td>174</td>\n",
       "      <td>0</td>\n",
       "      <td>1</td>\n",
       "      <td>125</td>\n",
       "      <td>1</td>\n",
       "      <td>2.6</td>\n",
       "      <td>0</td>\n",
       "      <td>0</td>\n",
       "      <td>3</td>\n",
       "      <td>0</td>\n",
       "    </tr>\n",
       "    <tr>\n",
       "      <th>3</th>\n",
       "      <td>61</td>\n",
       "      <td>1</td>\n",
       "      <td>0</td>\n",
       "      <td>148</td>\n",
       "      <td>203</td>\n",
       "      <td>0</td>\n",
       "      <td>1</td>\n",
       "      <td>161</td>\n",
       "      <td>0</td>\n",
       "      <td>0.0</td>\n",
       "      <td>2</td>\n",
       "      <td>1</td>\n",
       "      <td>3</td>\n",
       "      <td>0</td>\n",
       "    </tr>\n",
       "    <tr>\n",
       "      <th>4</th>\n",
       "      <td>62</td>\n",
       "      <td>0</td>\n",
       "      <td>0</td>\n",
       "      <td>138</td>\n",
       "      <td>294</td>\n",
       "      <td>1</td>\n",
       "      <td>1</td>\n",
       "      <td>106</td>\n",
       "      <td>0</td>\n",
       "      <td>1.9</td>\n",
       "      <td>1</td>\n",
       "      <td>3</td>\n",
       "      <td>2</td>\n",
       "      <td>0</td>\n",
       "    </tr>\n",
       "  </tbody>\n",
       "</table>\n",
       "</div>"
      ],
      "text/plain": [
       "   age  sex  cp  trestbps  chol  fbs  restecg  thalach  exang  oldpeak  slope  \\\n",
       "0   52    1   0       125   212    0        1      168      0      1.0      2   \n",
       "1   53    1   0       140   203    1        0      155      1      3.1      0   \n",
       "2   70    1   0       145   174    0        1      125      1      2.6      0   \n",
       "3   61    1   0       148   203    0        1      161      0      0.0      2   \n",
       "4   62    0   0       138   294    1        1      106      0      1.9      1   \n",
       "\n",
       "   ca  thal  target  \n",
       "0   2     3       0  \n",
       "1   0     3       0  \n",
       "2   0     3       0  \n",
       "3   1     3       0  \n",
       "4   3     2       0  "
      ]
     },
     "execution_count": 3,
     "metadata": {},
     "output_type": "execute_result"
    }
   ],
   "source": [
    "df=data.copy()\n",
    "df.head()"
   ]
  },
  {
   "cell_type": "markdown",
   "id": "6f98c043",
   "metadata": {},
   "source": [
    "#### The dataset used in this article is the Cleveland Heart Disease dataset. There are 14 columns in the dataset, \n",
    "which are described below.\n",
    "1. Age, in years\n",
    "2. Sex, 1 = male; 0 = female\n",
    "3. cp: chest pain type\n",
    "– Value 0: typical angina\n",
    "– Value 1: atypical angina\n",
    "– Value 2: non-anginal pain\n",
    "– Value 3: asymptomatic\n",
    "4. trestbps: resting blood pressure (in mm Hg on admission to the hospital)\n",
    "5. chol: serum cholestoral in mg/dAttribute Information:\n",
    "6. fbs: (fasting blood sugar > 120 mg/dl) 1 = true; 0 =false\n",
    "7. restecg: resting electrocardiographic results\n",
    "– Value 0: normal\n",
    "– Value 1: having ST-T wave abnormality (T wave inversions and/or ST elevation or depression of >0.05 mV)\n",
    "– Value 2: showing probable or definite left ventricu lar hypertrophy by Estes’ criteria\n",
    "8. thalach: maximum heart rate achieved during stress TEST\n",
    "9. exang: exercise induced angina, 1 = yes; 0 = no\n",
    "10. oldpeak = ST depression induced by exercise relative to rest\n",
    "11. slope: the slope of the peak exercise ST segment\n",
    "– Value 0: upsloping\n",
    "– Value 1: flat\n",
    "– Value 2: downsloping\n",
    "12. ca: number of major vessels (0-4) colored by flourosopy\n",
    "13. thal: thalassmia, 0 = null; 1=normal; 2 = fixed defect; 3 = reversible defect\n",
    "14. condition (target) : 0 = no disease, 1 = disease\n"
   ]
  },
  {
   "cell_type": "code",
   "execution_count": 4,
   "id": "62b23d35",
   "metadata": {},
   "outputs": [],
   "source": [
    "df.rename(columns={\"sex\":\"gender\",\"cp\":\"rest_cp\",\"trestbps\":\"rest_bp\",\"chol\":\"cholesterol\",\"fbs\":\"fast_bloodsugar\",\n",
    "                   \"restecg\":\"rest_ecg\",\"thalach\":\"stress_HR\",\"exang\":\"Exercise_cp\",\"oldpeak\":\"STdepression_Exerc\",\n",
    "                   \"slope\":\"STpeak_exerc\",\"ca\":\"coloured_vessels\",\"thal\":\"thalassmia\",\"target\":\"heart_disease\"},inplace=True)"
   ]
  },
  {
   "cell_type": "code",
   "execution_count": 5,
   "id": "965515dc",
   "metadata": {},
   "outputs": [
    {
     "name": "stdout",
     "output_type": "stream",
     "text": [
      "<class 'pandas.core.frame.DataFrame'>\n",
      "RangeIndex: 1025 entries, 0 to 1024\n",
      "Data columns (total 14 columns):\n",
      " #   Column              Non-Null Count  Dtype  \n",
      "---  ------              --------------  -----  \n",
      " 0   age                 1025 non-null   int64  \n",
      " 1   gender              1025 non-null   int64  \n",
      " 2   rest_cp             1025 non-null   int64  \n",
      " 3   rest_bp             1025 non-null   int64  \n",
      " 4   cholesterol         1025 non-null   int64  \n",
      " 5   fast_bloodsugar     1025 non-null   int64  \n",
      " 6   rest_ecg            1025 non-null   int64  \n",
      " 7   stress_HR           1025 non-null   int64  \n",
      " 8   Exercise_cp         1025 non-null   int64  \n",
      " 9   STdepression_Exerc  1025 non-null   float64\n",
      " 10  STpeak_exerc        1025 non-null   int64  \n",
      " 11  coloured_vessels    1025 non-null   int64  \n",
      " 12  thalassmia          1025 non-null   int64  \n",
      " 13  heart_disease       1025 non-null   int64  \n",
      "dtypes: float64(1), int64(13)\n",
      "memory usage: 112.2 KB\n"
     ]
    }
   ],
   "source": [
    "df.info()"
   ]
  },
  {
   "cell_type": "code",
   "execution_count": 6,
   "id": "3e634c9b",
   "metadata": {},
   "outputs": [
    {
     "data": {
      "text/html": [
       "<div>\n",
       "<style scoped>\n",
       "    .dataframe tbody tr th:only-of-type {\n",
       "        vertical-align: middle;\n",
       "    }\n",
       "\n",
       "    .dataframe tbody tr th {\n",
       "        vertical-align: top;\n",
       "    }\n",
       "\n",
       "    .dataframe thead th {\n",
       "        text-align: right;\n",
       "    }\n",
       "</style>\n",
       "<table border=\"1\" class=\"dataframe\">\n",
       "  <thead>\n",
       "    <tr style=\"text-align: right;\">\n",
       "      <th></th>\n",
       "      <th>age</th>\n",
       "      <th>gender</th>\n",
       "      <th>rest_cp</th>\n",
       "      <th>rest_bp</th>\n",
       "      <th>cholesterol</th>\n",
       "      <th>fast_bloodsugar</th>\n",
       "      <th>rest_ecg</th>\n",
       "      <th>stress_HR</th>\n",
       "      <th>Exercise_cp</th>\n",
       "      <th>STdepression_Exerc</th>\n",
       "      <th>STpeak_exerc</th>\n",
       "      <th>coloured_vessels</th>\n",
       "      <th>thalassmia</th>\n",
       "      <th>heart_disease</th>\n",
       "    </tr>\n",
       "  </thead>\n",
       "  <tbody>\n",
       "    <tr>\n",
       "      <th>count</th>\n",
       "      <td>1025.000000</td>\n",
       "      <td>1025.000000</td>\n",
       "      <td>1025.000000</td>\n",
       "      <td>1025.000000</td>\n",
       "      <td>1025.00000</td>\n",
       "      <td>1025.000000</td>\n",
       "      <td>1025.000000</td>\n",
       "      <td>1025.000000</td>\n",
       "      <td>1025.000000</td>\n",
       "      <td>1025.000000</td>\n",
       "      <td>1025.000000</td>\n",
       "      <td>1025.000000</td>\n",
       "      <td>1025.000000</td>\n",
       "      <td>1025.000000</td>\n",
       "    </tr>\n",
       "    <tr>\n",
       "      <th>mean</th>\n",
       "      <td>54.436098</td>\n",
       "      <td>0.695610</td>\n",
       "      <td>0.942439</td>\n",
       "      <td>131.611707</td>\n",
       "      <td>246.00000</td>\n",
       "      <td>0.149268</td>\n",
       "      <td>0.529756</td>\n",
       "      <td>149.141463</td>\n",
       "      <td>0.336585</td>\n",
       "      <td>1.071512</td>\n",
       "      <td>1.385366</td>\n",
       "      <td>0.754146</td>\n",
       "      <td>2.323902</td>\n",
       "      <td>0.513171</td>\n",
       "    </tr>\n",
       "    <tr>\n",
       "      <th>std</th>\n",
       "      <td>9.071551</td>\n",
       "      <td>0.460373</td>\n",
       "      <td>1.029641</td>\n",
       "      <td>17.516718</td>\n",
       "      <td>51.59251</td>\n",
       "      <td>0.356527</td>\n",
       "      <td>0.527878</td>\n",
       "      <td>22.990115</td>\n",
       "      <td>0.472772</td>\n",
       "      <td>1.175053</td>\n",
       "      <td>0.617755</td>\n",
       "      <td>1.030798</td>\n",
       "      <td>0.620660</td>\n",
       "      <td>0.500070</td>\n",
       "    </tr>\n",
       "    <tr>\n",
       "      <th>min</th>\n",
       "      <td>29.000000</td>\n",
       "      <td>0.000000</td>\n",
       "      <td>0.000000</td>\n",
       "      <td>94.000000</td>\n",
       "      <td>126.00000</td>\n",
       "      <td>0.000000</td>\n",
       "      <td>0.000000</td>\n",
       "      <td>71.000000</td>\n",
       "      <td>0.000000</td>\n",
       "      <td>0.000000</td>\n",
       "      <td>0.000000</td>\n",
       "      <td>0.000000</td>\n",
       "      <td>0.000000</td>\n",
       "      <td>0.000000</td>\n",
       "    </tr>\n",
       "    <tr>\n",
       "      <th>25%</th>\n",
       "      <td>48.000000</td>\n",
       "      <td>0.000000</td>\n",
       "      <td>0.000000</td>\n",
       "      <td>120.000000</td>\n",
       "      <td>211.00000</td>\n",
       "      <td>0.000000</td>\n",
       "      <td>0.000000</td>\n",
       "      <td>132.000000</td>\n",
       "      <td>0.000000</td>\n",
       "      <td>0.000000</td>\n",
       "      <td>1.000000</td>\n",
       "      <td>0.000000</td>\n",
       "      <td>2.000000</td>\n",
       "      <td>0.000000</td>\n",
       "    </tr>\n",
       "    <tr>\n",
       "      <th>50%</th>\n",
       "      <td>56.000000</td>\n",
       "      <td>1.000000</td>\n",
       "      <td>1.000000</td>\n",
       "      <td>130.000000</td>\n",
       "      <td>240.00000</td>\n",
       "      <td>0.000000</td>\n",
       "      <td>1.000000</td>\n",
       "      <td>152.000000</td>\n",
       "      <td>0.000000</td>\n",
       "      <td>0.800000</td>\n",
       "      <td>1.000000</td>\n",
       "      <td>0.000000</td>\n",
       "      <td>2.000000</td>\n",
       "      <td>1.000000</td>\n",
       "    </tr>\n",
       "    <tr>\n",
       "      <th>75%</th>\n",
       "      <td>61.000000</td>\n",
       "      <td>1.000000</td>\n",
       "      <td>2.000000</td>\n",
       "      <td>140.000000</td>\n",
       "      <td>275.00000</td>\n",
       "      <td>0.000000</td>\n",
       "      <td>1.000000</td>\n",
       "      <td>166.000000</td>\n",
       "      <td>1.000000</td>\n",
       "      <td>1.800000</td>\n",
       "      <td>2.000000</td>\n",
       "      <td>1.000000</td>\n",
       "      <td>3.000000</td>\n",
       "      <td>1.000000</td>\n",
       "    </tr>\n",
       "    <tr>\n",
       "      <th>max</th>\n",
       "      <td>77.000000</td>\n",
       "      <td>1.000000</td>\n",
       "      <td>3.000000</td>\n",
       "      <td>200.000000</td>\n",
       "      <td>564.00000</td>\n",
       "      <td>1.000000</td>\n",
       "      <td>2.000000</td>\n",
       "      <td>202.000000</td>\n",
       "      <td>1.000000</td>\n",
       "      <td>6.200000</td>\n",
       "      <td>2.000000</td>\n",
       "      <td>4.000000</td>\n",
       "      <td>3.000000</td>\n",
       "      <td>1.000000</td>\n",
       "    </tr>\n",
       "  </tbody>\n",
       "</table>\n",
       "</div>"
      ],
      "text/plain": [
       "               age       gender      rest_cp      rest_bp  cholesterol  \\\n",
       "count  1025.000000  1025.000000  1025.000000  1025.000000   1025.00000   \n",
       "mean     54.436098     0.695610     0.942439   131.611707    246.00000   \n",
       "std       9.071551     0.460373     1.029641    17.516718     51.59251   \n",
       "min      29.000000     0.000000     0.000000    94.000000    126.00000   \n",
       "25%      48.000000     0.000000     0.000000   120.000000    211.00000   \n",
       "50%      56.000000     1.000000     1.000000   130.000000    240.00000   \n",
       "75%      61.000000     1.000000     2.000000   140.000000    275.00000   \n",
       "max      77.000000     1.000000     3.000000   200.000000    564.00000   \n",
       "\n",
       "       fast_bloodsugar     rest_ecg    stress_HR  Exercise_cp  \\\n",
       "count      1025.000000  1025.000000  1025.000000  1025.000000   \n",
       "mean          0.149268     0.529756   149.141463     0.336585   \n",
       "std           0.356527     0.527878    22.990115     0.472772   \n",
       "min           0.000000     0.000000    71.000000     0.000000   \n",
       "25%           0.000000     0.000000   132.000000     0.000000   \n",
       "50%           0.000000     1.000000   152.000000     0.000000   \n",
       "75%           0.000000     1.000000   166.000000     1.000000   \n",
       "max           1.000000     2.000000   202.000000     1.000000   \n",
       "\n",
       "       STdepression_Exerc  STpeak_exerc  coloured_vessels   thalassmia  \\\n",
       "count         1025.000000   1025.000000       1025.000000  1025.000000   \n",
       "mean             1.071512      1.385366          0.754146     2.323902   \n",
       "std              1.175053      0.617755          1.030798     0.620660   \n",
       "min              0.000000      0.000000          0.000000     0.000000   \n",
       "25%              0.000000      1.000000          0.000000     2.000000   \n",
       "50%              0.800000      1.000000          0.000000     2.000000   \n",
       "75%              1.800000      2.000000          1.000000     3.000000   \n",
       "max              6.200000      2.000000          4.000000     3.000000   \n",
       "\n",
       "       heart_disease  \n",
       "count    1025.000000  \n",
       "mean        0.513171  \n",
       "std         0.500070  \n",
       "min         0.000000  \n",
       "25%         0.000000  \n",
       "50%         1.000000  \n",
       "75%         1.000000  \n",
       "max         1.000000  "
      ]
     },
     "execution_count": 6,
     "metadata": {},
     "output_type": "execute_result"
    }
   ],
   "source": [
    "df.describe()"
   ]
  },
  {
   "cell_type": "code",
   "execution_count": 7,
   "id": "3950c0f6",
   "metadata": {},
   "outputs": [
    {
     "data": {
      "text/plain": [
       "age                    41\n",
       "gender                  2\n",
       "rest_cp                 4\n",
       "rest_bp                49\n",
       "cholesterol           152\n",
       "fast_bloodsugar         2\n",
       "rest_ecg                3\n",
       "stress_HR              91\n",
       "Exercise_cp             2\n",
       "STdepression_Exerc     40\n",
       "STpeak_exerc            3\n",
       "coloured_vessels        5\n",
       "thalassmia              4\n",
       "heart_disease           2\n",
       "dtype: int64"
      ]
     },
     "execution_count": 7,
     "metadata": {},
     "output_type": "execute_result"
    }
   ],
   "source": [
    "df.nunique()"
   ]
  },
  {
   "cell_type": "code",
   "execution_count": 10,
   "id": "62a3f80b",
   "metadata": {},
   "outputs": [
    {
     "data": {
      "text/plain": [
       "1    0.513171\n",
       "0    0.486829\n",
       "Name: heart_disease, dtype: float64"
      ]
     },
     "execution_count": 10,
     "metadata": {},
     "output_type": "execute_result"
    }
   ],
   "source": [
    "df.heart_disease.value_counts(normalize=True)"
   ]
  },
  {
   "cell_type": "code",
   "execution_count": 9,
   "id": "b8fdf4de",
   "metadata": {},
   "outputs": [
    {
     "data": {
      "text/plain": [
       "1    0.513171\n",
       "0    0.486829\n",
       "Name: heart_disease, dtype: float64"
      ]
     },
     "execution_count": 9,
     "metadata": {},
     "output_type": "execute_result"
    }
   ],
   "source": [
    "df.heart_disease.value_counts()/len(df)"
   ]
  },
  {
   "cell_type": "code",
   "execution_count": 12,
   "id": "235349e5",
   "metadata": {},
   "outputs": [
    {
     "data": {
      "text/html": [
       "<div>\n",
       "<style scoped>\n",
       "    .dataframe tbody tr th:only-of-type {\n",
       "        vertical-align: middle;\n",
       "    }\n",
       "\n",
       "    .dataframe tbody tr th {\n",
       "        vertical-align: top;\n",
       "    }\n",
       "\n",
       "    .dataframe thead th {\n",
       "        text-align: right;\n",
       "    }\n",
       "</style>\n",
       "<table border=\"1\" class=\"dataframe\">\n",
       "  <thead>\n",
       "    <tr style=\"text-align: right;\">\n",
       "      <th></th>\n",
       "      <th>age</th>\n",
       "      <th>gender</th>\n",
       "      <th>rest_cp</th>\n",
       "      <th>rest_bp</th>\n",
       "      <th>cholesterol</th>\n",
       "      <th>fast_bloodsugar</th>\n",
       "      <th>rest_ecg</th>\n",
       "      <th>stress_HR</th>\n",
       "      <th>Exercise_cp</th>\n",
       "      <th>STdepression_Exerc</th>\n",
       "      <th>STpeak_exerc</th>\n",
       "      <th>coloured_vessels</th>\n",
       "      <th>thalassmia</th>\n",
       "      <th>heart_disease</th>\n",
       "    </tr>\n",
       "  </thead>\n",
       "  <tbody>\n",
       "    <tr>\n",
       "      <th>0</th>\n",
       "      <td>52</td>\n",
       "      <td>1</td>\n",
       "      <td>0</td>\n",
       "      <td>125</td>\n",
       "      <td>212</td>\n",
       "      <td>0</td>\n",
       "      <td>1</td>\n",
       "      <td>168</td>\n",
       "      <td>0</td>\n",
       "      <td>1.0</td>\n",
       "      <td>2</td>\n",
       "      <td>2</td>\n",
       "      <td>3</td>\n",
       "      <td>0</td>\n",
       "    </tr>\n",
       "    <tr>\n",
       "      <th>1</th>\n",
       "      <td>53</td>\n",
       "      <td>1</td>\n",
       "      <td>0</td>\n",
       "      <td>140</td>\n",
       "      <td>203</td>\n",
       "      <td>1</td>\n",
       "      <td>0</td>\n",
       "      <td>155</td>\n",
       "      <td>1</td>\n",
       "      <td>3.1</td>\n",
       "      <td>0</td>\n",
       "      <td>0</td>\n",
       "      <td>3</td>\n",
       "      <td>0</td>\n",
       "    </tr>\n",
       "  </tbody>\n",
       "</table>\n",
       "</div>"
      ],
      "text/plain": [
       "   age  gender  rest_cp  rest_bp  cholesterol  fast_bloodsugar  rest_ecg  \\\n",
       "0   52       1        0      125          212                0         1   \n",
       "1   53       1        0      140          203                1         0   \n",
       "\n",
       "   stress_HR  Exercise_cp  STdepression_Exerc  STpeak_exerc  coloured_vessels  \\\n",
       "0        168            0                 1.0             2                 2   \n",
       "1        155            1                 3.1             0                 0   \n",
       "\n",
       "   thalassmia  heart_disease  \n",
       "0           3              0  \n",
       "1           3              0  "
      ]
     },
     "execution_count": 12,
     "metadata": {},
     "output_type": "execute_result"
    }
   ],
   "source": [
    "df.head(2)"
   ]
  },
  {
   "cell_type": "code",
   "execution_count": 11,
   "id": "08bc4ffe",
   "metadata": {},
   "outputs": [
    {
     "data": {
      "text/plain": [
       "<Axes: xlabel='heart_disease', ylabel='count'>"
      ]
     },
     "execution_count": 11,
     "metadata": {},
     "output_type": "execute_result"
    },
    {
     "data": {
      "image/png": "[encoded data removed]",
      "text/plain": [
       "<Figure size 640x480 with 1 Axes>"
      ]
     },
     "metadata": {},
     "output_type": "display_data"
    }
   ],
   "source": [
    "sns.countplot(x=\"heart_disease\", data=df)"
   ]
  },
  {
   "cell_type": "code",
   "execution_count": 13,
   "id": "8aa03b06",
   "metadata": {},
   "outputs": [
    {
     "data": {
      "text/plain": [
       "0    497\n",
       "2    284\n",
       "1    167\n",
       "3     77\n",
       "Name: rest_cp, dtype: int64"
      ]
     },
     "execution_count": 13,
     "metadata": {},
     "output_type": "execute_result"
    }
   ],
   "source": [
    "df[\"rest_cp\"].value_counts()"
   ]
  },
  {
   "cell_type": "code",
   "execution_count": null,
   "id": "3c23cfe6",
   "metadata": {},
   "outputs": [],
   "source": [
    "\"\"\"\n",
    "‘rest_cp’……..Chest pain type\n",
    "………… 0 = Typical angina\n",
    "………… 1 = Atypical angina\n",
    "………… 2 = Non-anginal pain\n",
    "………… 3 = Asymptomatic\n",
    "\"\"\""
   ]
  },
  {
   "cell_type": "code",
   "execution_count": 14,
   "id": "f4d113d8",
   "metadata": {},
   "outputs": [
    {
     "data": {
      "image/png": "[encoded data removed]",
      "text/plain": [
       "<Figure size 640x480 with 1 Axes>"
      ]
     },
     "metadata": {},
     "output_type": "display_data"
    }
   ],
   "source": [
    "gender_count=sns.countplot(x=\"gender\", data=df,hue=\"heart_disease\")\n",
    "gender_count.set(xlabel=\"gender of patients\")\n",
    "\n",
    "for i in gender_count.containers:\n",
    "    gender_count.bar_label(i)"
   ]
  },
  {
   "cell_type": "code",
   "execution_count": 15,
   "id": "a700595a",
   "metadata": {},
   "outputs": [
    {
     "data": {
      "text/plain": [
       "<Axes: xlabel='rest_cp', ylabel='count'>"
      ]
     },
     "execution_count": 15,
     "metadata": {},
     "output_type": "execute_result"
    },
    {
     "data": {
      "image/png": "[encoded data removed]",
      "text/plain": [
       "<Figure size 640x480 with 1 Axes>"
      ]
     },
     "metadata": {},
     "output_type": "display_data"
    }
   ],
   "source": [
    "sns.countplot(x=\"rest_cp\", data=df)"
   ]
  },
  {
   "cell_type": "code",
   "execution_count": 20,
   "id": "8fa8ffd0",
   "metadata": {},
   "outputs": [
    {
     "data": {
      "image/png": "[encoded data removed]",
      "text/plain": [
       "<Figure size 640x480 with 1 Axes>"
      ]
     },
     "metadata": {},
     "output_type": "display_data"
    }
   ],
   "source": [
    "ax = sns.barplot(x=\"heart_disease\", y=\"rest_cp\", data=df,hue=\"rest_cp\", estimator=lambda x: len(x) / len(df) * 100)\n",
    "#ax = sns.barplot(x=\"heart_disease\", y=\"rest_cp\", data=df,hue=\"rest_cp\")\n",
    "ax.set(ylabel=\"Percent\")\n",
    "\n",
    "for i in ax.containers:\n",
    "    ax.bar_label(i)"
   ]
  },
  {
   "cell_type": "code",
   "execution_count": null,
   "id": "5f53e112",
   "metadata": {},
   "outputs": [],
   "source": [
    "#please complete EDA"
   ]
  },
  {
   "cell_type": "code",
   "execution_count": 18,
   "id": "f898b6b5",
   "metadata": {},
   "outputs": [
    {
     "data": {
      "text/plain": [
       "29"
      ]
     },
     "execution_count": 18,
     "metadata": {},
     "output_type": "execute_result"
    }
   ],
   "source": [
    "df[\"age\"].min()"
   ]
  },
  {
   "cell_type": "code",
   "execution_count": 19,
   "id": "733f256e",
   "metadata": {},
   "outputs": [
    {
     "data": {
      "text/plain": [
       "77"
      ]
     },
     "execution_count": 19,
     "metadata": {},
     "output_type": "execute_result"
    }
   ],
   "source": [
    "df[\"age\"].max()"
   ]
  },
  {
   "cell_type": "markdown",
   "id": "bace4e0a",
   "metadata": {},
   "source": [
    "#### assignemnt please create slab of age group 25,40,55,80"
   ]
  },
  {
   "cell_type": "markdown",
   "id": "3535fbf2",
   "metadata": {},
   "source": [
    "#### please complete the EDA and write interpretation"
   ]
  },
  {
   "cell_type": "code",
   "execution_count": 21,
   "id": "f54cc9d9",
   "metadata": {},
   "outputs": [
    {
     "data": {
      "text/html": [
       "<div>\n",
       "<style scoped>\n",
       "    .dataframe tbody tr th:only-of-type {\n",
       "        vertical-align: middle;\n",
       "    }\n",
       "\n",
       "    .dataframe tbody tr th {\n",
       "        vertical-align: top;\n",
       "    }\n",
       "\n",
       "    .dataframe thead th {\n",
       "        text-align: right;\n",
       "    }\n",
       "</style>\n",
       "<table border=\"1\" class=\"dataframe\">\n",
       "  <thead>\n",
       "    <tr style=\"text-align: right;\">\n",
       "      <th></th>\n",
       "      <th>age</th>\n",
       "      <th>gender</th>\n",
       "      <th>rest_cp</th>\n",
       "      <th>rest_bp</th>\n",
       "      <th>cholesterol</th>\n",
       "      <th>fast_bloodsugar</th>\n",
       "      <th>rest_ecg</th>\n",
       "      <th>stress_HR</th>\n",
       "      <th>Exercise_cp</th>\n",
       "      <th>STdepression_Exerc</th>\n",
       "      <th>STpeak_exerc</th>\n",
       "      <th>coloured_vessels</th>\n",
       "      <th>thalassmia</th>\n",
       "      <th>heart_disease</th>\n",
       "    </tr>\n",
       "  </thead>\n",
       "  <tbody>\n",
       "    <tr>\n",
       "      <th>0</th>\n",
       "      <td>52</td>\n",
       "      <td>1</td>\n",
       "      <td>0</td>\n",
       "      <td>125</td>\n",
       "      <td>212</td>\n",
       "      <td>0</td>\n",
       "      <td>1</td>\n",
       "      <td>168</td>\n",
       "      <td>0</td>\n",
       "      <td>1.0</td>\n",
       "      <td>2</td>\n",
       "      <td>2</td>\n",
       "      <td>3</td>\n",
       "      <td>0</td>\n",
       "    </tr>\n",
       "    <tr>\n",
       "      <th>1</th>\n",
       "      <td>53</td>\n",
       "      <td>1</td>\n",
       "      <td>0</td>\n",
       "      <td>140</td>\n",
       "      <td>203</td>\n",
       "      <td>1</td>\n",
       "      <td>0</td>\n",
       "      <td>155</td>\n",
       "      <td>1</td>\n",
       "      <td>3.1</td>\n",
       "      <td>0</td>\n",
       "      <td>0</td>\n",
       "      <td>3</td>\n",
       "      <td>0</td>\n",
       "    </tr>\n",
       "  </tbody>\n",
       "</table>\n",
       "</div>"
      ],
      "text/plain": [
       "   age  gender  rest_cp  rest_bp  cholesterol  fast_bloodsugar  rest_ecg  \\\n",
       "0   52       1        0      125          212                0         1   \n",
       "1   53       1        0      140          203                1         0   \n",
       "\n",
       "   stress_HR  Exercise_cp  STdepression_Exerc  STpeak_exerc  coloured_vessels  \\\n",
       "0        168            0                 1.0             2                 2   \n",
       "1        155            1                 3.1             0                 0   \n",
       "\n",
       "   thalassmia  heart_disease  \n",
       "0           3              0  \n",
       "1           3              0  "
      ]
     },
     "execution_count": 21,
     "metadata": {},
     "output_type": "execute_result"
    }
   ],
   "source": [
    "df.head(2)"
   ]
  },
  {
   "cell_type": "code",
   "execution_count": 24,
   "id": "2e1ca485",
   "metadata": {},
   "outputs": [
    {
     "data": {
      "text/plain": [
       "age                  -0.249478\n",
       "gender               -0.851449\n",
       "rest_cp               0.529455\n",
       "rest_bp               0.739768\n",
       "cholesterol           1.074073\n",
       "fast_bloodsugar       1.971339\n",
       "rest_ecg              0.180440\n",
       "stress_HR            -0.516791\n",
       "Exercise_cp           0.692655\n",
       "STdepression_Exerc    1.210899\n",
       "STpeak_exerc         -0.479134\n",
       "coloured_vessels      1.261189\n",
       "thalassmia           -0.524390\n",
       "heart_disease        -0.052778\n",
       "dtype: float64"
      ]
     },
     "execution_count": 24,
     "metadata": {},
     "output_type": "execute_result"
    }
   ],
   "source": [
    "df.skew()# range +/-3"
   ]
  },
  {
   "cell_type": "code",
   "execution_count": 25,
   "id": "4c5b2fe1",
   "metadata": {},
   "outputs": [
    {
     "data": {
      "text/plain": [
       "age                  -0.524644\n",
       "gender               -1.277531\n",
       "rest_cp              -1.149500\n",
       "rest_bp               0.991221\n",
       "cholesterol           3.996803\n",
       "fast_bloodsugar       1.889859\n",
       "rest_ecg             -1.309614\n",
       "stress_HR            -0.080328\n",
       "Exercise_cp          -1.523205\n",
       "STdepression_Exerc    1.314471\n",
       "STpeak_exerc         -0.647129\n",
       "coloured_vessels      0.701123\n",
       "thalassmia            0.250827\n",
       "heart_disease        -2.001123\n",
       "dtype: float64"
      ]
     },
     "execution_count": 25,
     "metadata": {},
     "output_type": "execute_result"
    }
   ],
   "source": [
    "df.kurt()#+/-5 range"
   ]
  },
  {
   "cell_type": "code",
   "execution_count": null,
   "id": "7bbae5a9",
   "metadata": {},
   "outputs": [],
   "source": [
    "# creation of Dependent and independent variable"
   ]
  },
  {
   "cell_type": "code",
   "execution_count": 22,
   "id": "755532d7",
   "metadata": {},
   "outputs": [],
   "source": [
    "X=df.drop([\"heart_disease\"],axis=1)\n",
    "Y=df[\"heart_disease\"]"
   ]
  },
  {
   "cell_type": "code",
   "execution_count": 27,
   "id": "de7a7f46",
   "metadata": {},
   "outputs": [],
   "source": [
    "from sklearn.preprocessing import StandardScaler,MinMaxScaler,RobustScaler"
   ]
  },
  {
   "cell_type": "code",
   "execution_count": 29,
   "id": "6e803918",
   "metadata": {},
   "outputs": [
    {
     "data": {
      "text/html": [
       "<style>#sk-container-id-1 {color: black;background-color: white;}#sk-container-id-1 pre{padding: 0;}#sk-container-id-1 div.sk-toggleable {background-color: white;}#sk-container-id-1 label.sk-toggleable__label {cursor: pointer;display: block;width: 100%;margin-bottom: 0;padding: 0.3em;box-sizing: border-box;text-align: center;}#sk-container-id-1 label.sk-toggleable__label-arrow:before {content: \"▸\";float: left;margin-right: 0.25em;color: #696969;}#sk-container-id-1 label.sk-toggleable__label-arrow:hover:before {color: black;}#sk-container-id-1 div.sk-estimator:hover label.sk-toggleable__label-arrow:before {color: black;}#sk-container-id-1 div.sk-toggleable__content {max-height: 0;max-width: 0;overflow: hidden;text-align: left;background-color: #f0f8ff;}#sk-container-id-1 div.sk-toggleable__content pre {margin: 0.2em;color: black;border-radius: 0.25em;background-color: #f0f8ff;}#sk-container-id-1 input.sk-toggleable__control:checked~div.sk-toggleable__content {max-height: 200px;max-width: 100%;overflow: auto;}#sk-container-id-1 input.sk-toggleable__control:checked~label.sk-toggleable__label-arrow:before {content: \"▾\";}#sk-container-id-1 div.sk-estimator input.sk-toggleable__control:checked~label.sk-toggleable__label {background-color: #d4ebff;}#sk-container-id-1 div.sk-label input.sk-toggleable__control:checked~label.sk-toggleable__label {background-color: #d4ebff;}#sk-container-id-1 input.sk-hidden--visually {border: 0;clip: rect(1px 1px 1px 1px);clip: rect(1px, 1px, 1px, 1px);height: 1px;margin: -1px;overflow: hidden;padding: 0;position: absolute;width: 1px;}#sk-container-id-1 div.sk-estimator {font-family: monospace;background-color: #f0f8ff;border: 1px dotted black;border-radius: 0.25em;box-sizing: border-box;margin-bottom: 0.5em;}#sk-container-id-1 div.sk-estimator:hover {background-color: #d4ebff;}#sk-container-id-1 div.sk-parallel-item::after {content: \"\";width: 100%;border-bottom: 1px solid gray;flex-grow: 1;}#sk-container-id-1 div.sk-label:hover label.sk-toggleable__label {background-color: #d4ebff;}#sk-container-id-1 div.sk-serial::before {content: \"\";position: absolute;border-left: 1px solid gray;box-sizing: border-box;top: 0;bottom: 0;left: 50%;z-index: 0;}#sk-container-id-1 div.sk-serial {display: flex;flex-direction: column;align-items: center;background-color: white;padding-right: 0.2em;padding-left: 0.2em;position: relative;}#sk-container-id-1 div.sk-item {position: relative;z-index: 1;}#sk-container-id-1 div.sk-parallel {display: flex;align-items: stretch;justify-content: center;background-color: white;position: relative;}#sk-container-id-1 div.sk-item::before, #sk-container-id-1 div.sk-parallel-item::before {content: \"\";position: absolute;border-left: 1px solid gray;box-sizing: border-box;top: 0;bottom: 0;left: 50%;z-index: -1;}#sk-container-id-1 div.sk-parallel-item {display: flex;flex-direction: column;z-index: 1;position: relative;background-color: white;}#sk-container-id-1 div.sk-parallel-item:first-child::after {align-self: flex-end;width: 50%;}#sk-container-id-1 div.sk-parallel-item:last-child::after {align-self: flex-start;width: 50%;}#sk-container-id-1 div.sk-parallel-item:only-child::after {width: 0;}#sk-container-id-1 div.sk-dashed-wrapped {border: 1px dashed gray;margin: 0 0.4em 0.5em 0.4em;box-sizing: border-box;padding-bottom: 0.4em;background-color: white;}#sk-container-id-1 div.sk-label label {font-family: monospace;font-weight: bold;display: inline-block;line-height: 1.2em;}#sk-container-id-1 div.sk-label-container {text-align: center;}#sk-container-id-1 div.sk-container {/* jupyter's `normalize.less` sets `[hidden] { display: none; }` but bootstrap.min.css set `[hidden] { display: none !important; }` so we also need the `!important` here to be able to override the default hidden behavior on the sphinx rendered scikit-learn.org. See: https://github.com/scikit-learn/scikit-learn/issues/21755 */display: inline-block !important;position: relative;}#sk-container-id-1 div.sk-text-repr-fallback {display: none;}</style><div id=\"sk-container-id-1\" class=\"sk-top-container\"><div class=\"sk-text-repr-fallback\"><pre>StandardScaler()</pre><b>In a Jupyter environment, please rerun this cell to show the HTML representation or trust the notebook. <br />On GitHub, the HTML representation is unable to render, please try loading this page with nbviewer.org.</b></div><div class=\"sk-container\" hidden><div class=\"sk-item\"><div class=\"sk-estimator sk-toggleable\"><input class=\"sk-toggleable__control sk-hidden--visually\" id=\"sk-estimator-id-1\" type=\"checkbox\" checked><label for=\"sk-estimator-id-1\" class=\"sk-toggleable__label sk-toggleable__label-arrow\">StandardScaler</label><div class=\"sk-toggleable__content\"><pre>StandardScaler()</pre></div></div></div></div></div>"
      ],
      "text/plain": [
       "StandardScaler()"
      ]
     },
     "execution_count": 29,
     "metadata": {},
     "output_type": "execute_result"
    }
   ],
   "source": [
    "scaler=StandardScaler()\n",
    "X_scaled=scaler.fit(X)\n",
    "X_scaled"
   ]
  },
  {
   "cell_type": "code",
   "execution_count": 30,
   "id": "6eb2f1b0",
   "metadata": {},
   "outputs": [],
   "source": [
    "X_scaled=scaler.transform(X)"
   ]
  },
  {
   "cell_type": "code",
   "execution_count": 31,
   "id": "79ac3ff1",
   "metadata": {},
   "outputs": [
    {
     "data": {
      "text/plain": [
       "array([[-0.26867367,  0.66150409, -0.91575542, ...,  0.99543334,\n",
       "         1.20922066,  1.08985168],\n",
       "       [-0.15838512,  0.66150409, -0.91575542, ..., -2.24367514,\n",
       "        -0.73197147,  1.08985168],\n",
       "       [ 1.71652022,  0.66150409, -0.91575542, ..., -2.24367514,\n",
       "        -0.73197147,  1.08985168],\n",
       "       ...,\n",
       "       [-0.82011641,  0.66150409, -0.91575542, ..., -0.6241209 ,\n",
       "         0.23862459, -0.52212231],\n",
       "       [-0.48925076, -1.51170646, -0.91575542, ...,  0.99543334,\n",
       "        -0.73197147, -0.52212231],\n",
       "       [-0.04809657,  0.66150409, -0.91575542, ..., -0.6241209 ,\n",
       "         0.23862459,  1.08985168]])"
      ]
     },
     "execution_count": 31,
     "metadata": {},
     "output_type": "execute_result"
    }
   ],
   "source": [
    "X_scaled"
   ]
  },
  {
   "cell_type": "code",
   "execution_count": 32,
   "id": "8df76cd6",
   "metadata": {},
   "outputs": [
    {
     "data": {
      "text/html": [
       "<div>\n",
       "<style scoped>\n",
       "    .dataframe tbody tr th:only-of-type {\n",
       "        vertical-align: middle;\n",
       "    }\n",
       "\n",
       "    .dataframe tbody tr th {\n",
       "        vertical-align: top;\n",
       "    }\n",
       "\n",
       "    .dataframe thead th {\n",
       "        text-align: right;\n",
       "    }\n",
       "</style>\n",
       "<table border=\"1\" class=\"dataframe\">\n",
       "  <thead>\n",
       "    <tr style=\"text-align: right;\">\n",
       "      <th></th>\n",
       "      <th>age</th>\n",
       "      <th>gender</th>\n",
       "      <th>rest_cp</th>\n",
       "      <th>rest_bp</th>\n",
       "      <th>cholesterol</th>\n",
       "      <th>fast_bloodsugar</th>\n",
       "      <th>rest_ecg</th>\n",
       "      <th>stress_HR</th>\n",
       "      <th>Exercise_cp</th>\n",
       "      <th>STdepression_Exerc</th>\n",
       "      <th>STpeak_exerc</th>\n",
       "      <th>coloured_vessels</th>\n",
       "      <th>thalassmia</th>\n",
       "    </tr>\n",
       "  </thead>\n",
       "  <tbody>\n",
       "    <tr>\n",
       "      <th>0</th>\n",
       "      <td>-0.268674</td>\n",
       "      <td>0.661504</td>\n",
       "      <td>-0.915755</td>\n",
       "      <td>-0.377636</td>\n",
       "      <td>-0.659332</td>\n",
       "      <td>-0.418878</td>\n",
       "      <td>0.891255</td>\n",
       "      <td>0.820689</td>\n",
       "      <td>-0.712287</td>\n",
       "      <td>-0.060888</td>\n",
       "      <td>0.995433</td>\n",
       "      <td>1.209221</td>\n",
       "      <td>1.089852</td>\n",
       "    </tr>\n",
       "    <tr>\n",
       "      <th>1</th>\n",
       "      <td>-0.158385</td>\n",
       "      <td>0.661504</td>\n",
       "      <td>-0.915755</td>\n",
       "      <td>0.479107</td>\n",
       "      <td>-0.833861</td>\n",
       "      <td>2.387330</td>\n",
       "      <td>-1.004049</td>\n",
       "      <td>0.254953</td>\n",
       "      <td>1.403928</td>\n",
       "      <td>1.727137</td>\n",
       "      <td>-2.243675</td>\n",
       "      <td>-0.731971</td>\n",
       "      <td>1.089852</td>\n",
       "    </tr>\n",
       "    <tr>\n",
       "      <th>2</th>\n",
       "      <td>1.716520</td>\n",
       "      <td>0.661504</td>\n",
       "      <td>-0.915755</td>\n",
       "      <td>0.764688</td>\n",
       "      <td>-1.396233</td>\n",
       "      <td>-0.418878</td>\n",
       "      <td>0.891255</td>\n",
       "      <td>-1.050593</td>\n",
       "      <td>1.403928</td>\n",
       "      <td>1.301417</td>\n",
       "      <td>-2.243675</td>\n",
       "      <td>-0.731971</td>\n",
       "      <td>1.089852</td>\n",
       "    </tr>\n",
       "    <tr>\n",
       "      <th>3</th>\n",
       "      <td>0.723923</td>\n",
       "      <td>0.661504</td>\n",
       "      <td>-0.915755</td>\n",
       "      <td>0.936037</td>\n",
       "      <td>-0.833861</td>\n",
       "      <td>-0.418878</td>\n",
       "      <td>0.891255</td>\n",
       "      <td>0.516062</td>\n",
       "      <td>-0.712287</td>\n",
       "      <td>-0.912329</td>\n",
       "      <td>0.995433</td>\n",
       "      <td>0.238625</td>\n",
       "      <td>1.089852</td>\n",
       "    </tr>\n",
       "    <tr>\n",
       "      <th>4</th>\n",
       "      <td>0.834212</td>\n",
       "      <td>-1.511706</td>\n",
       "      <td>-0.915755</td>\n",
       "      <td>0.364875</td>\n",
       "      <td>0.930822</td>\n",
       "      <td>2.387330</td>\n",
       "      <td>0.891255</td>\n",
       "      <td>-1.877438</td>\n",
       "      <td>-0.712287</td>\n",
       "      <td>0.705408</td>\n",
       "      <td>-0.624121</td>\n",
       "      <td>2.179817</td>\n",
       "      <td>-0.522122</td>\n",
       "    </tr>\n",
       "  </tbody>\n",
       "</table>\n",
       "</div>"
      ],
      "text/plain": [
       "        age    gender   rest_cp   rest_bp  cholesterol  fast_bloodsugar  \\\n",
       "0 -0.268674  0.661504 -0.915755 -0.377636    -0.659332        -0.418878   \n",
       "1 -0.158385  0.661504 -0.915755  0.479107    -0.833861         2.387330   \n",
       "2  1.716520  0.661504 -0.915755  0.764688    -1.396233        -0.418878   \n",
       "3  0.723923  0.661504 -0.915755  0.936037    -0.833861        -0.418878   \n",
       "4  0.834212 -1.511706 -0.915755  0.364875     0.930822         2.387330   \n",
       "\n",
       "   rest_ecg  stress_HR  Exercise_cp  STdepression_Exerc  STpeak_exerc  \\\n",
       "0  0.891255   0.820689    -0.712287           -0.060888      0.995433   \n",
       "1 -1.004049   0.254953     1.403928            1.727137     -2.243675   \n",
       "2  0.891255  -1.050593     1.403928            1.301417     -2.243675   \n",
       "3  0.891255   0.516062    -0.712287           -0.912329      0.995433   \n",
       "4  0.891255  -1.877438    -0.712287            0.705408     -0.624121   \n",
       "\n",
       "   coloured_vessels  thalassmia  \n",
       "0          1.209221    1.089852  \n",
       "1         -0.731971    1.089852  \n",
       "2         -0.731971    1.089852  \n",
       "3          0.238625    1.089852  \n",
       "4          2.179817   -0.522122  "
      ]
     },
     "execution_count": 32,
     "metadata": {},
     "output_type": "execute_result"
    }
   ],
   "source": [
    "X_scaled=pd.DataFrame(X_scaled,columns=X.columns)\n",
    "X_scaled.head()"
   ]
  },
  {
   "cell_type": "code",
   "execution_count": null,
   "id": "88fa95c4",
   "metadata": {},
   "outputs": [],
   "source": [
    "# multi collinearity"
   ]
  },
  {
   "cell_type": "code",
   "execution_count": 33,
   "id": "7e8d9529",
   "metadata": {},
   "outputs": [
    {
     "data": {
      "text/html": [
       "<div>\n",
       "<style scoped>\n",
       "    .dataframe tbody tr th:only-of-type {\n",
       "        vertical-align: middle;\n",
       "    }\n",
       "\n",
       "    .dataframe tbody tr th {\n",
       "        vertical-align: top;\n",
       "    }\n",
       "\n",
       "    .dataframe thead th {\n",
       "        text-align: right;\n",
       "    }\n",
       "</style>\n",
       "<table border=\"1\" class=\"dataframe\">\n",
       "  <thead>\n",
       "    <tr style=\"text-align: right;\">\n",
       "      <th></th>\n",
       "      <th>age</th>\n",
       "      <th>gender</th>\n",
       "      <th>rest_cp</th>\n",
       "      <th>rest_bp</th>\n",
       "      <th>cholesterol</th>\n",
       "      <th>fast_bloodsugar</th>\n",
       "      <th>rest_ecg</th>\n",
       "      <th>stress_HR</th>\n",
       "      <th>Exercise_cp</th>\n",
       "      <th>STdepression_Exerc</th>\n",
       "      <th>STpeak_exerc</th>\n",
       "      <th>coloured_vessels</th>\n",
       "      <th>thalassmia</th>\n",
       "    </tr>\n",
       "  </thead>\n",
       "  <tbody>\n",
       "    <tr>\n",
       "      <th>age</th>\n",
       "      <td>1.000000</td>\n",
       "      <td>-0.103574</td>\n",
       "      <td>-0.071960</td>\n",
       "      <td>0.271001</td>\n",
       "      <td>0.219832</td>\n",
       "      <td>0.121163</td>\n",
       "      <td>-0.132515</td>\n",
       "      <td>-0.390854</td>\n",
       "      <td>0.088017</td>\n",
       "      <td>0.208159</td>\n",
       "      <td>-0.168905</td>\n",
       "      <td>0.271415</td>\n",
       "      <td>0.072191</td>\n",
       "    </tr>\n",
       "    <tr>\n",
       "      <th>gender</th>\n",
       "      <td>-0.103574</td>\n",
       "      <td>1.000000</td>\n",
       "      <td>-0.041119</td>\n",
       "      <td>-0.078974</td>\n",
       "      <td>-0.198258</td>\n",
       "      <td>0.027200</td>\n",
       "      <td>-0.055117</td>\n",
       "      <td>-0.048612</td>\n",
       "      <td>0.139157</td>\n",
       "      <td>0.084687</td>\n",
       "      <td>-0.026666</td>\n",
       "      <td>0.111729</td>\n",
       "      <td>0.198424</td>\n",
       "    </tr>\n",
       "    <tr>\n",
       "      <th>rest_cp</th>\n",
       "      <td>-0.071960</td>\n",
       "      <td>-0.041119</td>\n",
       "      <td>1.000000</td>\n",
       "      <td>0.038177</td>\n",
       "      <td>-0.081641</td>\n",
       "      <td>0.079294</td>\n",
       "      <td>0.043581</td>\n",
       "      <td>0.305959</td>\n",
       "      <td>-0.401513</td>\n",
       "      <td>-0.174733</td>\n",
       "      <td>0.131633</td>\n",
       "      <td>-0.176206</td>\n",
       "      <td>-0.163341</td>\n",
       "    </tr>\n",
       "    <tr>\n",
       "      <th>rest_bp</th>\n",
       "      <td>0.271001</td>\n",
       "      <td>-0.078974</td>\n",
       "      <td>0.038177</td>\n",
       "      <td>1.000000</td>\n",
       "      <td>0.127977</td>\n",
       "      <td>0.181767</td>\n",
       "      <td>-0.123794</td>\n",
       "      <td>-0.038721</td>\n",
       "      <td>0.061197</td>\n",
       "      <td>0.187434</td>\n",
       "      <td>-0.120445</td>\n",
       "      <td>0.104554</td>\n",
       "      <td>0.059276</td>\n",
       "    </tr>\n",
       "    <tr>\n",
       "      <th>cholesterol</th>\n",
       "      <td>0.219832</td>\n",
       "      <td>-0.198258</td>\n",
       "      <td>-0.081641</td>\n",
       "      <td>0.127977</td>\n",
       "      <td>1.000000</td>\n",
       "      <td>0.026917</td>\n",
       "      <td>-0.147410</td>\n",
       "      <td>-0.020588</td>\n",
       "      <td>0.067382</td>\n",
       "      <td>0.064880</td>\n",
       "      <td>-0.014248</td>\n",
       "      <td>0.074259</td>\n",
       "      <td>0.100244</td>\n",
       "    </tr>\n",
       "    <tr>\n",
       "      <th>fast_bloodsugar</th>\n",
       "      <td>0.121163</td>\n",
       "      <td>0.027200</td>\n",
       "      <td>0.079294</td>\n",
       "      <td>0.181767</td>\n",
       "      <td>0.026917</td>\n",
       "      <td>1.000000</td>\n",
       "      <td>-0.104051</td>\n",
       "      <td>-0.009370</td>\n",
       "      <td>0.049261</td>\n",
       "      <td>0.010859</td>\n",
       "      <td>-0.061902</td>\n",
       "      <td>0.137156</td>\n",
       "      <td>-0.042177</td>\n",
       "    </tr>\n",
       "    <tr>\n",
       "      <th>rest_ecg</th>\n",
       "      <td>-0.132515</td>\n",
       "      <td>-0.055117</td>\n",
       "      <td>0.043581</td>\n",
       "      <td>-0.123794</td>\n",
       "      <td>-0.147410</td>\n",
       "      <td>-0.104051</td>\n",
       "      <td>1.000000</td>\n",
       "      <td>0.049503</td>\n",
       "      <td>-0.065606</td>\n",
       "      <td>-0.050114</td>\n",
       "      <td>0.086086</td>\n",
       "      <td>-0.078072</td>\n",
       "      <td>-0.020504</td>\n",
       "    </tr>\n",
       "    <tr>\n",
       "      <th>stress_HR</th>\n",
       "      <td>-0.390854</td>\n",
       "      <td>-0.048612</td>\n",
       "      <td>0.305959</td>\n",
       "      <td>-0.038721</td>\n",
       "      <td>-0.020588</td>\n",
       "      <td>-0.009370</td>\n",
       "      <td>0.049503</td>\n",
       "      <td>1.000000</td>\n",
       "      <td>-0.378870</td>\n",
       "      <td>-0.346867</td>\n",
       "      <td>0.394834</td>\n",
       "      <td>-0.205438</td>\n",
       "      <td>-0.096839</td>\n",
       "    </tr>\n",
       "    <tr>\n",
       "      <th>Exercise_cp</th>\n",
       "      <td>0.088017</td>\n",
       "      <td>0.139157</td>\n",
       "      <td>-0.401513</td>\n",
       "      <td>0.061197</td>\n",
       "      <td>0.067382</td>\n",
       "      <td>0.049261</td>\n",
       "      <td>-0.065606</td>\n",
       "      <td>-0.378870</td>\n",
       "      <td>1.000000</td>\n",
       "      <td>0.310844</td>\n",
       "      <td>-0.267335</td>\n",
       "      <td>0.107849</td>\n",
       "      <td>0.197201</td>\n",
       "    </tr>\n",
       "    <tr>\n",
       "      <th>STdepression_Exerc</th>\n",
       "      <td>0.208159</td>\n",
       "      <td>0.084687</td>\n",
       "      <td>-0.174733</td>\n",
       "      <td>0.187434</td>\n",
       "      <td>0.064880</td>\n",
       "      <td>0.010859</td>\n",
       "      <td>-0.050114</td>\n",
       "      <td>-0.346867</td>\n",
       "      <td>0.310844</td>\n",
       "      <td>1.000000</td>\n",
       "      <td>-0.575189</td>\n",
       "      <td>0.221816</td>\n",
       "      <td>0.202672</td>\n",
       "    </tr>\n",
       "    <tr>\n",
       "      <th>STpeak_exerc</th>\n",
       "      <td>-0.168905</td>\n",
       "      <td>-0.026666</td>\n",
       "      <td>0.131633</td>\n",
       "      <td>-0.120445</td>\n",
       "      <td>-0.014248</td>\n",
       "      <td>-0.061902</td>\n",
       "      <td>0.086086</td>\n",
       "      <td>0.394834</td>\n",
       "      <td>-0.267335</td>\n",
       "      <td>-0.575189</td>\n",
       "      <td>1.000000</td>\n",
       "      <td>-0.073440</td>\n",
       "      <td>-0.094090</td>\n",
       "    </tr>\n",
       "    <tr>\n",
       "      <th>coloured_vessels</th>\n",
       "      <td>0.271415</td>\n",
       "      <td>0.111729</td>\n",
       "      <td>-0.176206</td>\n",
       "      <td>0.104554</td>\n",
       "      <td>0.074259</td>\n",
       "      <td>0.137156</td>\n",
       "      <td>-0.078072</td>\n",
       "      <td>-0.205438</td>\n",
       "      <td>0.107849</td>\n",
       "      <td>0.221816</td>\n",
       "      <td>-0.073440</td>\n",
       "      <td>1.000000</td>\n",
       "      <td>0.149014</td>\n",
       "    </tr>\n",
       "    <tr>\n",
       "      <th>thalassmia</th>\n",
       "      <td>0.072191</td>\n",
       "      <td>0.198424</td>\n",
       "      <td>-0.163341</td>\n",
       "      <td>0.059276</td>\n",
       "      <td>0.100244</td>\n",
       "      <td>-0.042177</td>\n",
       "      <td>-0.020504</td>\n",
       "      <td>-0.096839</td>\n",
       "      <td>0.197201</td>\n",
       "      <td>0.202672</td>\n",
       "      <td>-0.094090</td>\n",
       "      <td>0.149014</td>\n",
       "      <td>1.000000</td>\n",
       "    </tr>\n",
       "  </tbody>\n",
       "</table>\n",
       "</div>"
      ],
      "text/plain": [
       "                         age    gender   rest_cp   rest_bp  cholesterol  \\\n",
       "age                 1.000000 -0.103574 -0.071960  0.271001     0.219832   \n",
       "gender             -0.103574  1.000000 -0.041119 -0.078974    -0.198258   \n",
       "rest_cp            -0.071960 -0.041119  1.000000  0.038177    -0.081641   \n",
       "rest_bp             0.271001 -0.078974  0.038177  1.000000     0.127977   \n",
       "cholesterol         0.219832 -0.198258 -0.081641  0.127977     1.000000   \n",
       "fast_bloodsugar     0.121163  0.027200  0.079294  0.181767     0.026917   \n",
       "rest_ecg           -0.132515 -0.055117  0.043581 -0.123794    -0.147410   \n",
       "stress_HR          -0.390854 -0.048612  0.305959 -0.038721    -0.020588   \n",
       "Exercise_cp         0.088017  0.139157 -0.401513  0.061197     0.067382   \n",
       "STdepression_Exerc  0.208159  0.084687 -0.174733  0.187434     0.064880   \n",
       "STpeak_exerc       -0.168905 -0.026666  0.131633 -0.120445    -0.014248   \n",
       "coloured_vessels    0.271415  0.111729 -0.176206  0.104554     0.074259   \n",
       "thalassmia          0.072191  0.198424 -0.163341  0.059276     0.100244   \n",
       "\n",
       "                    fast_bloodsugar  rest_ecg  stress_HR  Exercise_cp  \\\n",
       "age                        0.121163 -0.132515  -0.390854     0.088017   \n",
       "gender                     0.027200 -0.055117  -0.048612     0.139157   \n",
       "rest_cp                    0.079294  0.043581   0.305959    -0.401513   \n",
       "rest_bp                    0.181767 -0.123794  -0.038721     0.061197   \n",
       "cholesterol                0.026917 -0.147410  -0.020588     0.067382   \n",
       "fast_bloodsugar            1.000000 -0.104051  -0.009370     0.049261   \n",
       "rest_ecg                  -0.104051  1.000000   0.049503    -0.065606   \n",
       "stress_HR                 -0.009370  0.049503   1.000000    -0.378870   \n",
       "Exercise_cp                0.049261 -0.065606  -0.378870     1.000000   \n",
       "STdepression_Exerc         0.010859 -0.050114  -0.346867     0.310844   \n",
       "STpeak_exerc              -0.061902  0.086086   0.394834    -0.267335   \n",
       "coloured_vessels           0.137156 -0.078072  -0.205438     0.107849   \n",
       "thalassmia                -0.042177 -0.020504  -0.096839     0.197201   \n",
       "\n",
       "                    STdepression_Exerc  STpeak_exerc  coloured_vessels  \\\n",
       "age                           0.208159     -0.168905          0.271415   \n",
       "gender                        0.084687     -0.026666          0.111729   \n",
       "rest_cp                      -0.174733      0.131633         -0.176206   \n",
       "rest_bp                       0.187434     -0.120445          0.104554   \n",
       "cholesterol                   0.064880     -0.014248          0.074259   \n",
       "fast_bloodsugar               0.010859     -0.061902          0.137156   \n",
       "rest_ecg                     -0.050114      0.086086         -0.078072   \n",
       "stress_HR                    -0.346867      0.394834         -0.205438   \n",
       "Exercise_cp                   0.310844     -0.267335          0.107849   \n",
       "STdepression_Exerc            1.000000     -0.575189          0.221816   \n",
       "STpeak_exerc                 -0.575189      1.000000         -0.073440   \n",
       "coloured_vessels              0.221816     -0.073440          1.000000   \n",
       "thalassmia                    0.202672     -0.094090          0.149014   \n",
       "\n",
       "                    thalassmia  \n",
       "age                   0.072191  \n",
       "gender                0.198424  \n",
       "rest_cp              -0.163341  \n",
       "rest_bp               0.059276  \n",
       "cholesterol           0.100244  \n",
       "fast_bloodsugar      -0.042177  \n",
       "rest_ecg             -0.020504  \n",
       "stress_HR            -0.096839  \n",
       "Exercise_cp           0.197201  \n",
       "STdepression_Exerc    0.202672  \n",
       "STpeak_exerc         -0.094090  \n",
       "coloured_vessels      0.149014  \n",
       "thalassmia            1.000000  "
      ]
     },
     "execution_count": 33,
     "metadata": {},
     "output_type": "execute_result"
    }
   ],
   "source": [
    "df_matrix=X_scaled.corr()\n",
    "df_matrix"
   ]
  },
  {
   "cell_type": "code",
   "execution_count": 34,
   "id": "b9c788d8",
   "metadata": {},
   "outputs": [
    {
     "data": {
      "text/plain": [
       "<Axes: >"
      ]
     },
     "execution_count": 34,
     "metadata": {},
     "output_type": "execute_result"
    },
    {
     "data": {
      "image/png": "[encoded data removed]",
      "text/plain": [
       "<Figure size 1500x1200 with 2 Axes>"
      ]
     },
     "metadata": {},
     "output_type": "display_data"
    }
   ],
   "source": [
    "plt.figure(figsize=(15,12))\n",
    "sns.heatmap(df_matrix,annot=True)"
   ]
  },
  {
   "cell_type": "code",
   "execution_count": null,
   "id": "286d152e",
   "metadata": {},
   "outputs": [],
   "source": [
    "# there is no high multi collinearity"
   ]
  },
  {
   "cell_type": "code",
   "execution_count": 36,
   "id": "dd03d83e",
   "metadata": {},
   "outputs": [
    {
     "data": {
      "text/plain": [
       "1    526\n",
       "0    499\n",
       "Name: heart_disease, dtype: int64"
      ]
     },
     "execution_count": 36,
     "metadata": {},
     "output_type": "execute_result"
    }
   ],
   "source": [
    "Y.value_counts()"
   ]
  },
  {
   "cell_type": "code",
   "execution_count": 35,
   "id": "15c4a996",
   "metadata": {},
   "outputs": [],
   "source": [
    "from sklearn.model_selection import train_test_split"
   ]
  },
  {
   "cell_type": "code",
   "execution_count": 37,
   "id": "219947f9",
   "metadata": {},
   "outputs": [],
   "source": [
    "X_train,X_test,Y_train,Y_test=train_test_split(X_scaled,Y,test_size=0.2,random_state=101,stratify=Y)"
   ]
  },
  {
   "cell_type": "code",
   "execution_count": 38,
   "id": "91265789",
   "metadata": {},
   "outputs": [
    {
     "data": {
      "text/plain": [
       "(820, 13)"
      ]
     },
     "execution_count": 38,
     "metadata": {},
     "output_type": "execute_result"
    }
   ],
   "source": [
    "X_train.shape"
   ]
  },
  {
   "cell_type": "code",
   "execution_count": 39,
   "id": "9cd14a39",
   "metadata": {},
   "outputs": [
    {
     "data": {
      "text/plain": [
       "(205, 13)"
      ]
     },
     "execution_count": 39,
     "metadata": {},
     "output_type": "execute_result"
    }
   ],
   "source": [
    "X_test.shape"
   ]
  },
  {
   "cell_type": "code",
   "execution_count": 41,
   "id": "5af7efd2",
   "metadata": {},
   "outputs": [],
   "source": [
    "from sklearn.linear_model import LogisticRegression\n",
    "lr=LogisticRegression()"
   ]
  },
  {
   "cell_type": "code",
   "execution_count": 42,
   "id": "0bffac30",
   "metadata": {},
   "outputs": [
    {
     "data": {
      "text/html": [
       "<style>#sk-container-id-2 {color: black;background-color: white;}#sk-container-id-2 pre{padding: 0;}#sk-container-id-2 div.sk-toggleable {background-color: white;}#sk-container-id-2 label.sk-toggleable__label {cursor: pointer;display: block;width: 100%;margin-bottom: 0;padding: 0.3em;box-sizing: border-box;text-align: center;}#sk-container-id-2 label.sk-toggleable__label-arrow:before {content: \"▸\";float: left;margin-right: 0.25em;color: #696969;}#sk-container-id-2 label.sk-toggleable__label-arrow:hover:before {color: black;}#sk-container-id-2 div.sk-estimator:hover label.sk-toggleable__label-arrow:before {color: black;}#sk-container-id-2 div.sk-toggleable__content {max-height: 0;max-width: 0;overflow: hidden;text-align: left;background-color: #f0f8ff;}#sk-container-id-2 div.sk-toggleable__content pre {margin: 0.2em;color: black;border-radius: 0.25em;background-color: #f0f8ff;}#sk-container-id-2 input.sk-toggleable__control:checked~div.sk-toggleable__content {max-height: 200px;max-width: 100%;overflow: auto;}#sk-container-id-2 input.sk-toggleable__control:checked~label.sk-toggleable__label-arrow:before {content: \"▾\";}#sk-container-id-2 div.sk-estimator input.sk-toggleable__control:checked~label.sk-toggleable__label {background-color: #d4ebff;}#sk-container-id-2 div.sk-label input.sk-toggleable__control:checked~label.sk-toggleable__label {background-color: #d4ebff;}#sk-container-id-2 input.sk-hidden--visually {border: 0;clip: rect(1px 1px 1px 1px);clip: rect(1px, 1px, 1px, 1px);height: 1px;margin: -1px;overflow: hidden;padding: 0;position: absolute;width: 1px;}#sk-container-id-2 div.sk-estimator {font-family: monospace;background-color: #f0f8ff;border: 1px dotted black;border-radius: 0.25em;box-sizing: border-box;margin-bottom: 0.5em;}#sk-container-id-2 div.sk-estimator:hover {background-color: #d4ebff;}#sk-container-id-2 div.sk-parallel-item::after {content: \"\";width: 100%;border-bottom: 1px solid gray;flex-grow: 1;}#sk-container-id-2 div.sk-label:hover label.sk-toggleable__label {background-color: #d4ebff;}#sk-container-id-2 div.sk-serial::before {content: \"\";position: absolute;border-left: 1px solid gray;box-sizing: border-box;top: 0;bottom: 0;left: 50%;z-index: 0;}#sk-container-id-2 div.sk-serial {display: flex;flex-direction: column;align-items: center;background-color: white;padding-right: 0.2em;padding-left: 0.2em;position: relative;}#sk-container-id-2 div.sk-item {position: relative;z-index: 1;}#sk-container-id-2 div.sk-parallel {display: flex;align-items: stretch;justify-content: center;background-color: white;position: relative;}#sk-container-id-2 div.sk-item::before, #sk-container-id-2 div.sk-parallel-item::before {content: \"\";position: absolute;border-left: 1px solid gray;box-sizing: border-box;top: 0;bottom: 0;left: 50%;z-index: -1;}#sk-container-id-2 div.sk-parallel-item {display: flex;flex-direction: column;z-index: 1;position: relative;background-color: white;}#sk-container-id-2 div.sk-parallel-item:first-child::after {align-self: flex-end;width: 50%;}#sk-container-id-2 div.sk-parallel-item:last-child::after {align-self: flex-start;width: 50%;}#sk-container-id-2 div.sk-parallel-item:only-child::after {width: 0;}#sk-container-id-2 div.sk-dashed-wrapped {border: 1px dashed gray;margin: 0 0.4em 0.5em 0.4em;box-sizing: border-box;padding-bottom: 0.4em;background-color: white;}#sk-container-id-2 div.sk-label label {font-family: monospace;font-weight: bold;display: inline-block;line-height: 1.2em;}#sk-container-id-2 div.sk-label-container {text-align: center;}#sk-container-id-2 div.sk-container {/* jupyter's `normalize.less` sets `[hidden] { display: none; }` but bootstrap.min.css set `[hidden] { display: none !important; }` so we also need the `!important` here to be able to override the default hidden behavior on the sphinx rendered scikit-learn.org. See: https://github.com/scikit-learn/scikit-learn/issues/21755 */display: inline-block !important;position: relative;}#sk-container-id-2 div.sk-text-repr-fallback {display: none;}</style><div id=\"sk-container-id-2\" class=\"sk-top-container\"><div class=\"sk-text-repr-fallback\"><pre>LogisticRegression()</pre><b>In a Jupyter environment, please rerun this cell to show the HTML representation or trust the notebook. <br />On GitHub, the HTML representation is unable to render, please try loading this page with nbviewer.org.</b></div><div class=\"sk-container\" hidden><div class=\"sk-item\"><div class=\"sk-estimator sk-toggleable\"><input class=\"sk-toggleable__control sk-hidden--visually\" id=\"sk-estimator-id-2\" type=\"checkbox\" checked><label for=\"sk-estimator-id-2\" class=\"sk-toggleable__label sk-toggleable__label-arrow\">LogisticRegression</label><div class=\"sk-toggleable__content\"><pre>LogisticRegression()</pre></div></div></div></div></div>"
      ],
      "text/plain": [
       "LogisticRegression()"
      ]
     },
     "execution_count": 42,
     "metadata": {},
     "output_type": "execute_result"
    }
   ],
   "source": [
    "lr.fit(X_train,Y_train)"
   ]
  },
  {
   "cell_type": "code",
   "execution_count": 44,
   "id": "0096cf47",
   "metadata": {},
   "outputs": [],
   "source": [
    "Y_pred_train=lr.predict(X_train)"
   ]
  },
  {
   "cell_type": "code",
   "execution_count": 43,
   "id": "d4a42be8",
   "metadata": {},
   "outputs": [],
   "source": [
    "Y_pred_test=lr.predict(X_test)"
   ]
  },
  {
   "cell_type": "code",
   "execution_count": 45,
   "id": "421282f3",
   "metadata": {},
   "outputs": [],
   "source": [
    "from sklearn.metrics import accuracy_score,classification_report,confusion_matrix"
   ]
  },
  {
   "cell_type": "code",
   "execution_count": 46,
   "id": "e60e414d",
   "metadata": {},
   "outputs": [
    {
     "data": {
      "text/plain": [
       "0.8560975609756097"
      ]
     },
     "execution_count": 46,
     "metadata": {},
     "output_type": "execute_result"
    }
   ],
   "source": [
    "accuracy_score(Y_train,Y_pred_train)"
   ]
  },
  {
   "cell_type": "code",
   "execution_count": 47,
   "id": "0c972771",
   "metadata": {},
   "outputs": [
    {
     "data": {
      "text/plain": [
       "0.8780487804878049"
      ]
     },
     "execution_count": 47,
     "metadata": {},
     "output_type": "execute_result"
    }
   ],
   "source": [
    "accuracy_score(Y_test,Y_pred_test)"
   ]
  },
  {
   "cell_type": "code",
   "execution_count": 48,
   "id": "53d71e82",
   "metadata": {},
   "outputs": [
    {
     "data": {
      "text/plain": [
       "array([[83, 17],\n",
       "       [ 8, 97]], dtype=int64)"
      ]
     },
     "execution_count": 48,
     "metadata": {},
     "output_type": "execute_result"
    }
   ],
   "source": [
    "confusion_matrix(Y_test,Y_pred_test)"
   ]
  },
  {
   "cell_type": "code",
   "execution_count": 50,
   "id": "de543ad6",
   "metadata": {},
   "outputs": [
    {
     "name": "stdout",
     "output_type": "stream",
     "text": [
      "              precision    recall  f1-score   support\n",
      "\n",
      "           0       0.91      0.83      0.87       100\n",
      "           1       0.85      0.92      0.89       105\n",
      "\n",
      "    accuracy                           0.88       205\n",
      "   macro avg       0.88      0.88      0.88       205\n",
      "weighted avg       0.88      0.88      0.88       205\n",
      "\n"
     ]
    }
   ],
   "source": [
    "print(classification_report(Y_test,Y_pred_test))"
   ]
  },
  {
   "cell_type": "markdown",
   "id": "71f8a681",
   "metadata": {},
   "source": [
    "# assignment please calcualte the specificity,sensitivity,balanced_accuracy"
   ]
  },
  {
   "cell_type": "code",
   "execution_count": 51,
   "id": "649f40b4",
   "metadata": {},
   "outputs": [
    {
     "data": {
      "text/plain": [
       "array([1, 1, 1, 0, 0, 1, 0, 1, 1, 0, 0, 0, 1, 1, 1, 1, 0, 1, 0, 1, 0, 0,\n",
       "       0, 1, 1, 1, 1, 0, 1, 1, 1, 1, 1, 1, 0, 0, 0, 0, 1, 1, 0, 1, 0, 0,\n",
       "       1, 1, 0, 1, 1, 1, 0, 1, 0, 1, 0, 1, 0, 0, 0, 0, 1, 0, 0, 1, 0, 0,\n",
       "       1, 1, 1, 0, 0, 0, 1, 1, 1, 0, 1, 0, 1, 1, 0, 1, 0, 1, 1, 1, 0, 1,\n",
       "       0, 1, 0, 1, 0, 1, 1, 1, 0, 0, 1, 1, 0, 1, 1, 1, 0, 1, 0, 0, 0, 0,\n",
       "       1, 0, 0, 0, 0, 1, 1, 0, 1, 0, 1, 1, 0, 1, 1, 0, 1, 1, 1, 1, 1, 0,\n",
       "       1, 1, 0, 1, 0, 1, 0, 0, 0, 0, 0, 1, 1, 0, 1, 0, 0, 1, 0, 1, 0, 0,\n",
       "       1, 1, 1, 0, 1, 1, 0, 1, 1, 0, 0, 0, 0, 1, 0, 0, 1, 0, 0, 1, 0, 1,\n",
       "       1, 0, 0, 1, 1, 1, 1, 1, 0, 1, 1, 1, 1, 0, 1, 1, 0, 0, 1, 1, 1, 0,\n",
       "       1, 0, 1, 1, 1, 1, 1], dtype=int64)"
      ]
     },
     "execution_count": 51,
     "metadata": {},
     "output_type": "execute_result"
    }
   ],
   "source": [
    "Y_pred_test"
   ]
  },
  {
   "cell_type": "code",
   "execution_count": 52,
   "id": "0b937342",
   "metadata": {},
   "outputs": [
    {
     "data": {
      "text/plain": [
       "581    1\n",
       "832    1\n",
       "665    1\n",
       "409    0\n",
       "882    0\n",
       "      ..\n",
       "734    0\n",
       "369    1\n",
       "257    1\n",
       "131    1\n",
       "549    1\n",
       "Name: heart_disease, Length: 205, dtype: int64"
      ]
     },
     "execution_count": 52,
     "metadata": {},
     "output_type": "execute_result"
    }
   ],
   "source": [
    "Y_test"
   ]
  },
  {
   "cell_type": "code",
   "execution_count": 53,
   "id": "6add4625",
   "metadata": {},
   "outputs": [
    {
     "data": {
      "text/html": [
       "<div>\n",
       "<style scoped>\n",
       "    .dataframe tbody tr th:only-of-type {\n",
       "        vertical-align: middle;\n",
       "    }\n",
       "\n",
       "    .dataframe tbody tr th {\n",
       "        vertical-align: top;\n",
       "    }\n",
       "\n",
       "    .dataframe thead th {\n",
       "        text-align: right;\n",
       "    }\n",
       "</style>\n",
       "<table border=\"1\" class=\"dataframe\">\n",
       "  <thead>\n",
       "    <tr style=\"text-align: right;\">\n",
       "      <th></th>\n",
       "      <th>age</th>\n",
       "      <th>gender</th>\n",
       "      <th>rest_cp</th>\n",
       "      <th>rest_bp</th>\n",
       "      <th>cholesterol</th>\n",
       "      <th>fast_bloodsugar</th>\n",
       "      <th>rest_ecg</th>\n",
       "      <th>stress_HR</th>\n",
       "      <th>Exercise_cp</th>\n",
       "      <th>STdepression_Exerc</th>\n",
       "      <th>STpeak_exerc</th>\n",
       "      <th>coloured_vessels</th>\n",
       "      <th>thalassmia</th>\n",
       "    </tr>\n",
       "  </thead>\n",
       "  <tbody>\n",
       "    <tr>\n",
       "      <th>581</th>\n",
       "      <td>-1.150982</td>\n",
       "      <td>0.661504</td>\n",
       "      <td>1.027618</td>\n",
       "      <td>0.479107</td>\n",
       "      <td>-0.213313</td>\n",
       "      <td>-0.418878</td>\n",
       "      <td>-1.004049</td>\n",
       "      <td>1.342908</td>\n",
       "      <td>-0.712287</td>\n",
       "      <td>-0.912329</td>\n",
       "      <td>0.995433</td>\n",
       "      <td>-0.731971</td>\n",
       "      <td>-0.522122</td>\n",
       "    </tr>\n",
       "    <tr>\n",
       "      <th>832</th>\n",
       "      <td>1.495943</td>\n",
       "      <td>0.661504</td>\n",
       "      <td>1.027618</td>\n",
       "      <td>-0.777449</td>\n",
       "      <td>0.601156</td>\n",
       "      <td>-0.418878</td>\n",
       "      <td>0.891255</td>\n",
       "      <td>0.080880</td>\n",
       "      <td>-0.712287</td>\n",
       "      <td>-0.060888</td>\n",
       "      <td>0.995433</td>\n",
       "      <td>0.238625</td>\n",
       "      <td>1.089852</td>\n",
       "    </tr>\n",
       "    <tr>\n",
       "      <th>665</th>\n",
       "      <td>1.165077</td>\n",
       "      <td>-1.511706</td>\n",
       "      <td>1.027618</td>\n",
       "      <td>0.479107</td>\n",
       "      <td>3.316053</td>\n",
       "      <td>2.387330</td>\n",
       "      <td>-1.004049</td>\n",
       "      <td>0.341989</td>\n",
       "      <td>-0.712287</td>\n",
       "      <td>-0.231177</td>\n",
       "      <td>0.995433</td>\n",
       "      <td>0.238625</td>\n",
       "      <td>-0.522122</td>\n",
       "    </tr>\n",
       "    <tr>\n",
       "      <th>409</th>\n",
       "      <td>-0.930405</td>\n",
       "      <td>0.661504</td>\n",
       "      <td>1.027618</td>\n",
       "      <td>1.050269</td>\n",
       "      <td>-0.290882</td>\n",
       "      <td>-0.418878</td>\n",
       "      <td>0.891255</td>\n",
       "      <td>-0.093193</td>\n",
       "      <td>-0.712287</td>\n",
       "      <td>2.152857</td>\n",
       "      <td>-0.624121</td>\n",
       "      <td>-0.731971</td>\n",
       "      <td>-0.522122</td>\n",
       "    </tr>\n",
       "    <tr>\n",
       "      <th>882</th>\n",
       "      <td>0.282769</td>\n",
       "      <td>0.661504</td>\n",
       "      <td>-0.915755</td>\n",
       "      <td>-0.092055</td>\n",
       "      <td>-2.230094</td>\n",
       "      <td>-0.418878</td>\n",
       "      <td>0.891255</td>\n",
       "      <td>-1.485775</td>\n",
       "      <td>1.403928</td>\n",
       "      <td>0.109400</td>\n",
       "      <td>-0.624121</td>\n",
       "      <td>0.238625</td>\n",
       "      <td>1.089852</td>\n",
       "    </tr>\n",
       "  </tbody>\n",
       "</table>\n",
       "</div>"
      ],
      "text/plain": [
       "          age    gender   rest_cp   rest_bp  cholesterol  fast_bloodsugar  \\\n",
       "581 -1.150982  0.661504  1.027618  0.479107    -0.213313        -0.418878   \n",
       "832  1.495943  0.661504  1.027618 -0.777449     0.601156        -0.418878   \n",
       "665  1.165077 -1.511706  1.027618  0.479107     3.316053         2.387330   \n",
       "409 -0.930405  0.661504  1.027618  1.050269    -0.290882        -0.418878   \n",
       "882  0.282769  0.661504 -0.915755 -0.092055    -2.230094        -0.418878   \n",
       "\n",
       "     rest_ecg  stress_HR  Exercise_cp  STdepression_Exerc  STpeak_exerc  \\\n",
       "581 -1.004049   1.342908    -0.712287           -0.912329      0.995433   \n",
       "832  0.891255   0.080880    -0.712287           -0.060888      0.995433   \n",
       "665 -1.004049   0.341989    -0.712287           -0.231177      0.995433   \n",
       "409  0.891255  -0.093193    -0.712287            2.152857     -0.624121   \n",
       "882  0.891255  -1.485775     1.403928            0.109400     -0.624121   \n",
       "\n",
       "     coloured_vessels  thalassmia  \n",
       "581         -0.731971   -0.522122  \n",
       "832          0.238625    1.089852  \n",
       "665          0.238625   -0.522122  \n",
       "409         -0.731971   -0.522122  \n",
       "882          0.238625    1.089852  "
      ]
     },
     "execution_count": 53,
     "metadata": {},
     "output_type": "execute_result"
    }
   ],
   "source": [
    "X_test.head()"
   ]
  },
  {
   "cell_type": "code",
   "execution_count": null,
   "id": "d6357cb4",
   "metadata": {},
   "outputs": [],
   "source": [
    "# probability"
   ]
  },
  {
   "cell_type": "code",
   "execution_count": 54,
   "id": "43f6f27a",
   "metadata": {},
   "outputs": [
    {
     "data": {
      "text/plain": [
       "array([[0.05750397, 0.94249603],\n",
       "       [0.43928627, 0.56071373],\n",
       "       [0.19887412, 0.80112588],\n",
       "       [0.55026667, 0.44973333],\n",
       "       [0.94735715, 0.05264285],\n",
       "       [0.1700311 , 0.8299689 ],\n",
       "       [0.94421125, 0.05578875],\n",
       "       [0.02783247, 0.97216753],\n",
       "       [0.17749707, 0.82250293],\n",
       "       [0.99479939, 0.00520061],\n",
       "       [0.87415307, 0.12584693],\n",
       "       [0.59335852, 0.40664148],\n",
       "       [0.01029304, 0.98970696],\n",
       "       [0.37551681, 0.62448319],\n",
       "       [0.21508734, 0.78491266],\n",
       "       [0.06763933, 0.93236067],\n",
       "       [0.97480356, 0.02519644],\n",
       "       [0.01403937, 0.98596063],\n",
       "       [0.98970308, 0.01029692],\n",
       "       [0.03693971, 0.96306029],\n",
       "       [0.87415307, 0.12584693],\n",
       "       [0.91225857, 0.08774143],\n",
       "       [0.91776918, 0.08223082],\n",
       "       [0.35268202, 0.64731798],\n",
       "       [0.22484214, 0.77515786],\n",
       "       [0.36059798, 0.63940202],\n",
       "       [0.1700311 , 0.8299689 ],\n",
       "       [0.68857116, 0.31142884],\n",
       "       [0.01020545, 0.98979455],\n",
       "       [0.30124769, 0.69875231],\n",
       "       [0.05312304, 0.94687696],\n",
       "       [0.01132609, 0.98867391],\n",
       "       [0.41578036, 0.58421964],\n",
       "       [0.11885252, 0.88114748],\n",
       "       [0.50536345, 0.49463655],\n",
       "       [0.98970308, 0.01029692],\n",
       "       [0.74281463, 0.25718537],\n",
       "       [0.77329245, 0.22670755],\n",
       "       [0.36222409, 0.63777591],\n",
       "       [0.1013494 , 0.8986506 ],\n",
       "       [0.64937229, 0.35062771],\n",
       "       [0.46355694, 0.53644306],\n",
       "       [0.9763961 , 0.0236039 ],\n",
       "       [0.94222591, 0.05777409],\n",
       "       [0.41170157, 0.58829843],\n",
       "       [0.05486024, 0.94513976],\n",
       "       [0.99799923, 0.00200077],\n",
       "       [0.02122438, 0.97877562],\n",
       "       [0.22063759, 0.77936241],\n",
       "       [0.28649267, 0.71350733],\n",
       "       [0.9967521 , 0.0032479 ],\n",
       "       [0.43859944, 0.56140056],\n",
       "       [0.86097717, 0.13902283],\n",
       "       [0.35361415, 0.64638585],\n",
       "       [0.98307764, 0.01692236],\n",
       "       [0.04499187, 0.95500813],\n",
       "       [0.9906964 , 0.0093036 ],\n",
       "       [0.94380621, 0.05619379],\n",
       "       [0.9980463 , 0.0019537 ],\n",
       "       [0.99195674, 0.00804326],\n",
       "       [0.07297599, 0.92702401],\n",
       "       [0.96169912, 0.03830088],\n",
       "       [0.69393043, 0.30606957],\n",
       "       [0.37218501, 0.62781499],\n",
       "       [0.95328866, 0.04671134],\n",
       "       [0.50134786, 0.49865214],\n",
       "       [0.16066099, 0.83933901],\n",
       "       [0.1507613 , 0.8492387 ],\n",
       "       [0.08462705, 0.91537295],\n",
       "       [0.99076959, 0.00923041],\n",
       "       [0.78097702, 0.21902298],\n",
       "       [0.99142167, 0.00857833],\n",
       "       [0.00541203, 0.99458797],\n",
       "       [0.04665918, 0.95334082],\n",
       "       [0.00547041, 0.99452959],\n",
       "       [0.95700367, 0.04299633],\n",
       "       [0.32327228, 0.67672772],\n",
       "       [0.99076959, 0.00923041],\n",
       "       [0.36059798, 0.63940202],\n",
       "       [0.1001828 , 0.8998172 ],\n",
       "       [0.98655536, 0.01344464],\n",
       "       [0.20171754, 0.79828246],\n",
       "       [0.61599221, 0.38400779],\n",
       "       [0.3581016 , 0.6418984 ],\n",
       "       [0.31138018, 0.68861982],\n",
       "       [0.04494946, 0.95505054],\n",
       "       [0.93897953, 0.06102047],\n",
       "       [0.0734283 , 0.9265717 ],\n",
       "       [0.50118039, 0.49881961],\n",
       "       [0.04341967, 0.95658033],\n",
       "       [0.76996252, 0.23003748],\n",
       "       [0.44603865, 0.55396135],\n",
       "       [0.91225857, 0.08774143],\n",
       "       [0.39715948, 0.60284052],\n",
       "       [0.04045791, 0.95954209],\n",
       "       [0.01132609, 0.98867391],\n",
       "       [0.94222591, 0.05777409],\n",
       "       [0.98178   , 0.01822   ],\n",
       "       [0.34545264, 0.65454736],\n",
       "       [0.22530204, 0.77469796],\n",
       "       [0.50134786, 0.49865214],\n",
       "       [0.15027828, 0.84972172],\n",
       "       [0.24180821, 0.75819179],\n",
       "       [0.04499187, 0.95500813],\n",
       "       [0.74281463, 0.25718537],\n",
       "       [0.02158316, 0.97841684],\n",
       "       [0.87415307, 0.12584693],\n",
       "       [0.99230608, 0.00769392],\n",
       "       [0.93897953, 0.06102047],\n",
       "       [0.9215217 , 0.0784783 ],\n",
       "       [0.08669162, 0.91330838],\n",
       "       [0.94184944, 0.05815056],\n",
       "       [0.9906964 , 0.0093036 ],\n",
       "       [0.93595701, 0.06404299],\n",
       "       [0.60687067, 0.39312933],\n",
       "       [0.00747536, 0.99252464],\n",
       "       [0.1507613 , 0.8492387 ],\n",
       "       [0.93595701, 0.06404299],\n",
       "       [0.47970325, 0.52029675],\n",
       "       [0.98958879, 0.01041121],\n",
       "       [0.30203891, 0.69796109],\n",
       "       [0.28013328, 0.71986672],\n",
       "       [0.50390843, 0.49609157],\n",
       "       [0.04354815, 0.95645185],\n",
       "       [0.36222409, 0.63777591],\n",
       "       [0.81563495, 0.18436505],\n",
       "       [0.20171754, 0.79828246],\n",
       "       [0.0510202 , 0.9489798 ],\n",
       "       [0.28420275, 0.71579725],\n",
       "       [0.08669162, 0.91330838],\n",
       "       [0.41170157, 0.58829843],\n",
       "       [0.91225857, 0.08774143],\n",
       "       [0.01403937, 0.98596063],\n",
       "       [0.11863255, 0.88136745],\n",
       "       [0.98716051, 0.01283949],\n",
       "       [0.30303412, 0.69696588],\n",
       "       [0.9967521 , 0.0032479 ],\n",
       "       [0.18747326, 0.81252674],\n",
       "       [0.99195674, 0.00804326],\n",
       "       [0.59335852, 0.40664148],\n",
       "       [0.84759655, 0.15240345],\n",
       "       [0.97480356, 0.02519644],\n",
       "       [0.95328866, 0.04671134],\n",
       "       [0.19967444, 0.80032556],\n",
       "       [0.18363423, 0.81636577],\n",
       "       [0.99407164, 0.00592836],\n",
       "       [0.41474323, 0.58525677],\n",
       "       [0.89976226, 0.10023774],\n",
       "       [0.98731111, 0.01268889],\n",
       "       [0.10165061, 0.89834939],\n",
       "       [0.99631964, 0.00368036],\n",
       "       [0.30303412, 0.69696588],\n",
       "       [0.99435564, 0.00564436],\n",
       "       [0.64937229, 0.35062771],\n",
       "       [0.17646616, 0.82353384],\n",
       "       [0.32327228, 0.67672772],\n",
       "       [0.37218501, 0.62781499],\n",
       "       [0.78097702, 0.21902298],\n",
       "       [0.03180249, 0.96819751],\n",
       "       [0.00747536, 0.99252464],\n",
       "       [0.64319381, 0.35680619],\n",
       "       [0.30036351, 0.69963649],\n",
       "       [0.11863255, 0.88136745],\n",
       "       [0.94380621, 0.05619379],\n",
       "       [0.62677666, 0.37322334],\n",
       "       [0.76996252, 0.23003748],\n",
       "       [0.99195674, 0.00804326],\n",
       "       [0.26688465, 0.73311535],\n",
       "       [0.99010796, 0.00989204],\n",
       "       [0.83847437, 0.16152563],\n",
       "       [0.21697991, 0.78302009],\n",
       "       [0.67229441, 0.32770559],\n",
       "       [0.84759655, 0.15240345],\n",
       "       [0.37218501, 0.62781499],\n",
       "       [0.58771557, 0.41228443],\n",
       "       [0.41474323, 0.58525677],\n",
       "       [0.10820081, 0.89179919],\n",
       "       [0.92819547, 0.07180453],\n",
       "       [0.50390843, 0.49609157],\n",
       "       [0.44336492, 0.55663508],\n",
       "       [0.10820081, 0.89179919],\n",
       "       [0.29572717, 0.70427283],\n",
       "       [0.37551681, 0.62448319],\n",
       "       [0.47970325, 0.52029675],\n",
       "       [0.65862518, 0.34137482],\n",
       "       [0.43568351, 0.56431649],\n",
       "       [0.16012451, 0.83987549],\n",
       "       [0.08462705, 0.91537295],\n",
       "       [0.01086522, 0.98913478],\n",
       "       [0.792231  , 0.207769  ],\n",
       "       [0.04597617, 0.95402383],\n",
       "       [0.04847383, 0.95152617],\n",
       "       [0.94149341, 0.05850659],\n",
       "       [0.97528744, 0.02471256],\n",
       "       [0.04357155, 0.95642845],\n",
       "       [0.01643918, 0.98356082],\n",
       "       [0.22063759, 0.77936241],\n",
       "       [0.94567084, 0.05432916],\n",
       "       [0.1530365 , 0.8469635 ],\n",
       "       [0.99349951, 0.00650049],\n",
       "       [0.34545264, 0.65454736],\n",
       "       [0.07720981, 0.92279019],\n",
       "       [0.44655688, 0.55344312],\n",
       "       [0.02451044, 0.97548956],\n",
       "       [0.43928627, 0.56071373]])"
      ]
     },
     "execution_count": 54,
     "metadata": {},
     "output_type": "execute_result"
    }
   ],
   "source": [
    "probability=lr.predict_proba(X_test)\n",
    "probability"
   ]
  },
  {
   "cell_type": "code",
   "execution_count": 57,
   "id": "b032e754",
   "metadata": {},
   "outputs": [],
   "source": [
    "# ROC AUC---\n",
    "prob_pos_class=lr.predict_proba(X_test)[:,1]\n",
    "#prob_pos_class"
   ]
  },
  {
   "cell_type": "code",
   "execution_count": 59,
   "id": "0e793b76",
   "metadata": {},
   "outputs": [],
   "source": [
    "from sklearn.metrics import roc_auc_score"
   ]
  },
  {
   "cell_type": "code",
   "execution_count": 61,
   "id": "aa8ad7c8",
   "metadata": {},
   "outputs": [
    {
     "data": {
      "text/plain": [
       "0.9420000000000001"
      ]
     },
     "execution_count": 61,
     "metadata": {},
     "output_type": "execute_result"
    }
   ],
   "source": [
    "auc_score=roc_auc_score(Y_test,prob_pos_class)\n",
    "auc_score"
   ]
  },
  {
   "cell_type": "code",
   "execution_count": 62,
   "id": "1cbe5129",
   "metadata": {},
   "outputs": [
    {
     "data": {
      "text/plain": [
       "0.876904761904762"
      ]
     },
     "execution_count": 62,
     "metadata": {},
     "output_type": "execute_result"
    }
   ],
   "source": [
    "auc_score1=roc_auc_score(Y_test,Y_pred_test)\n",
    "auc_score1"
   ]
  },
  {
   "cell_type": "code",
   "execution_count": null,
   "id": "40148dcb",
   "metadata": {},
   "outputs": [],
   "source": [
    "# plotting the ROC curve"
   ]
  },
  {
   "cell_type": "code",
   "execution_count": 64,
   "id": "fc27ef0f",
   "metadata": {},
   "outputs": [],
   "source": [
    "from sklearn.metrics import roc_curve"
   ]
  },
  {
   "cell_type": "code",
   "execution_count": 66,
   "id": "bed12cf9",
   "metadata": {},
   "outputs": [],
   "source": [
    "fpr,tpr,thresh=roc_curve(Y_test,prob_pos_class,pos_label=1)"
   ]
  },
  {
   "cell_type": "code",
   "execution_count": 67,
   "id": "ca41d934",
   "metadata": {},
   "outputs": [
    {
     "data": {
      "text/plain": [
       "array([0.  , 0.  , 0.  , 0.  , 0.  , 0.  , 0.  , 0.  , 0.  , 0.  , 0.  ,\n",
       "       0.01, 0.01, 0.01, 0.03, 0.03, 0.03, 0.03, 0.03, 0.03, 0.05, 0.06,\n",
       "       0.06, 0.07, 0.07, 0.07, 0.07, 0.09, 0.09, 0.1 , 0.1 , 0.1 , 0.12,\n",
       "       0.12, 0.12, 0.12, 0.13, 0.13, 0.13, 0.15, 0.15, 0.17, 0.18, 0.22,\n",
       "       0.22, 0.24, 0.26, 0.26, 0.27, 0.27, 0.28, 0.28, 0.3 , 0.34, 0.35,\n",
       "       0.37, 0.4 , 0.42, 0.43, 0.46, 0.47, 0.5 , 0.53, 0.57, 0.58, 0.58,\n",
       "       0.62, 0.65, 0.67, 0.69, 0.71, 0.79, 0.81, 0.82, 0.86, 0.87, 0.9 ,\n",
       "       0.96, 0.98, 1.  ])"
      ]
     },
     "execution_count": 67,
     "metadata": {},
     "output_type": "execute_result"
    }
   ],
   "source": [
    "fpr"
   ]
  },
  {
   "cell_type": "code",
   "execution_count": 68,
   "id": "f3ded83c",
   "metadata": {},
   "outputs": [
    {
     "data": {
      "text/plain": [
       "array([0.        , 0.00952381, 0.01904762, 0.03809524, 0.06666667,\n",
       "       0.1047619 , 0.21904762, 0.23809524, 0.34285714, 0.38095238,\n",
       "       0.4       , 0.4       , 0.43809524, 0.45714286, 0.45714286,\n",
       "       0.48571429, 0.5047619 , 0.56190476, 0.58095238, 0.6       ,\n",
       "       0.6       , 0.6       , 0.68571429, 0.68571429, 0.7047619 ,\n",
       "       0.71428571, 0.73333333, 0.73333333, 0.75238095, 0.75238095,\n",
       "       0.79047619, 0.81904762, 0.81904762, 0.82857143, 0.86666667,\n",
       "       0.87619048, 0.87619048, 0.88571429, 0.9047619 , 0.9047619 ,\n",
       "       0.92380952, 0.92380952, 0.92380952, 0.92380952, 0.93333333,\n",
       "       0.93333333, 0.93333333, 0.96190476, 0.96190476, 0.98095238,\n",
       "       0.98095238, 0.99047619, 0.99047619, 0.99047619, 0.99047619,\n",
       "       0.99047619, 0.99047619, 0.99047619, 0.99047619, 0.99047619,\n",
       "       0.99047619, 0.99047619, 0.99047619, 0.99047619, 0.99047619,\n",
       "       1.        , 1.        , 1.        , 1.        , 1.        ,\n",
       "       1.        , 1.        , 1.        , 1.        , 1.        ,\n",
       "       1.        , 1.        , 1.        , 1.        , 1.        ])"
      ]
     },
     "execution_count": 68,
     "metadata": {},
     "output_type": "execute_result"
    }
   ],
   "source": [
    "tpr"
   ]
  },
  {
   "cell_type": "code",
   "execution_count": 69,
   "id": "9b9705ff",
   "metadata": {},
   "outputs": [
    {
     "data": {
      "text/plain": [
       "array([1.99458797e+00, 9.94587973e-01, 9.94529588e-01, 9.92524635e-01,\n",
       "       9.89134775e-01, 9.85960632e-01, 9.55050539e-01, 9.55008128e-01,\n",
       "       9.22790188e-01, 9.13308377e-01, 8.98650596e-01, 8.98349390e-01,\n",
       "       8.81367450e-01, 8.49721718e-01, 8.49238704e-01, 8.39339006e-01,\n",
       "       8.29968899e-01, 8.00325558e-01, 7.98282456e-01, 7.83020090e-01,\n",
       "       7.79362407e-01, 7.75157863e-01, 6.98752308e-01, 6.97961089e-01,\n",
       "       6.96965876e-01, 6.88619817e-01, 6.76727719e-01, 6.54547358e-01,\n",
       "       6.46385848e-01, 6.41898400e-01, 6.37775915e-01, 6.27814992e-01,\n",
       "       6.24483185e-01, 6.02840518e-01, 5.85256775e-01, 5.84219635e-01,\n",
       "       5.64316490e-01, 5.61400555e-01, 5.60713729e-01, 5.53961351e-01,\n",
       "       5.36443059e-01, 5.20296754e-01, 4.98819607e-01, 4.96091571e-01,\n",
       "       4.94636554e-01, 4.12284426e-01, 4.06641483e-01, 3.73223335e-01,\n",
       "       3.56806189e-01, 3.50627707e-01, 3.41374819e-01, 3.27705593e-01,\n",
       "       3.06069573e-01, 2.30037482e-01, 2.26707551e-01, 2.19022979e-01,\n",
       "       1.61525627e-01, 1.52403452e-01, 1.39022827e-01, 1.25846933e-01,\n",
       "       1.00237740e-01, 8.77414338e-02, 7.18045273e-02, 6.10204720e-02,\n",
       "       5.85065937e-02, 5.81505623e-02, 5.61937853e-02, 5.26428530e-02,\n",
       "       4.67113360e-02, 3.83008822e-02, 2.51964350e-02, 1.04112092e-02,\n",
       "       1.02969246e-02, 9.89203729e-03, 9.23041286e-03, 8.57832906e-03,\n",
       "       8.04325842e-03, 3.68035843e-03, 3.24789538e-03, 1.95369784e-03])"
      ]
     },
     "execution_count": 69,
     "metadata": {},
     "output_type": "execute_result"
    }
   ],
   "source": [
    "thresh"
   ]
  },
  {
   "cell_type": "code",
   "execution_count": 75,
   "id": "75342378",
   "metadata": {},
   "outputs": [
    {
     "data": {
      "text/plain": [
       "<matplotlib.legend.Legend at 0x1b303eff0d0>"
      ]
     },
     "execution_count": 75,
     "metadata": {},
     "output_type": "execute_result"
    },
    {
     "data": {
      "image/png": "[encoded data removed]",
      "text/plain": [
       "<Figure size 640x480 with 1 Axes>"
      ]
     },
     "metadata": {},
     "output_type": "display_data"
    }
   ],
   "source": [
    "plt.plot(fpr,tpr,linestyle='--',color=\"red\",label=\"logistic regression\")\n",
    "plt.plot([0,1],label=\"NO SKILL\")# no skill line\n",
    "plt.title(\"roc curve\")\n",
    "plt.xlabel(\"false positive rate\")\n",
    "plt.ylabel(\"true positive rate\")\n",
    "plt.legend()"
   ]
  },
  {
   "cell_type": "code",
   "execution_count": null,
   "id": "53b179c5",
   "metadata": {},
   "outputs": [],
   "source": []
  },
  {
   "cell_type": "code",
   "execution_count": null,
   "id": "3f740a6e",
   "metadata": {},
   "outputs": [],
   "source": []
  },
  {
   "cell_type": "code",
   "execution_count": null,
   "id": "b791d04b",
   "metadata": {},
   "outputs": [],
   "source": []
  },
  {
   "cell_type": "code",
   "execution_count": null,
   "id": "d0631f6b",
   "metadata": {},
   "outputs": [],
   "source": []
  },
  {
   "cell_type": "code",
   "execution_count": null,
   "id": "c6086428",
   "metadata": {},
   "outputs": [],
   "source": []
  }
 ],
 "metadata": {
  "kernelspec": {
   "display_name": "Python 3 (ipykernel)",
   "language": "python",
   "name": "python3"
  },
  "language_info": {
   "codemirror_mode": {
    "name": "ipython",
    "version": 3
   },
   "file_extension": ".py",
   "mimetype": "text/x-python",
   "name": "python",
   "nbconvert_exporter": "python",
   "pygments_lexer": "ipython3",
   "version": "3.11.4"
  }
 },
 "nbformat": 4,
 "nbformat_minor": 5
}
